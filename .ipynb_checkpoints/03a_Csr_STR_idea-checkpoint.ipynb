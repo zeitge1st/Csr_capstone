{
 "cells": [
  {
   "cell_type": "markdown",
   "metadata": {},
   "source": [
    "# Restaurants and cafes in Stuttgart\n",
    "## Influence of location and type of cuisine on future ratings"
   ]
  },
  {
   "cell_type": "markdown",
   "metadata": {},
   "source": [
    "**Problem:**<br>\n",
    "For sure, the ratings of a restaurant are highly dependent on the quality of the food, the service and the whole atmosphere.<br>\n",
    "**BUT** beside these criteria of a running business, are there fundamental conditions I can set before opening a business which are influencing the future rating?<br>\n",
    "E.g. before I'm opening a restaurant business I have to decide<br> \n",
    "- where to locate it and <br>\n",
    "- which kind of cusine I want to offer.<br>\n",
    "<br>\n",
    "When taking the decision I should consider that this cuisine is demanded by customers in this area of the city.<br>\n",
    "<br>\n",
    "Of course, I can't look in the future or asking all the residents, but I can check how the existing businesses perform."
   ]
  },
  {
   "cell_type": "markdown",
   "metadata": {},
   "source": [
    "**Target audience:**<br>\n",
    "Future business owner"
   ]
  },
  {
   "cell_type": "markdown",
   "metadata": {},
   "source": [
    "**Potential solution and approach:**<br>\n",
    "I want to investigate this problem for the city of Stuttgart in Germany.<br>\n",
    "- As level of detail on the locations I'm choosing the ZIP-codes in the city area. This ZIP-code areas should sufficient enough to represent the different neighborhoods\n",
    "- For each ZIP-code area I can pull the geo coordinates to get reference points per neighborhood.\n",
    "- With the geo coordinates I can get a list of food-related businesses from Foursquare which are close to each neighborhood\n",
    "- For each food-related business I'm pulling the rating from Foursquare.\n",
    "- For exotic cuisine I won't have enough data that's why I'm focusing on the top10-cuisines only.\n",
    "- My dataset consists of \"rating\" (as target) and \"close neighborhoods\" and \"cuisine\" (as features)\n",
    "- With a Linear Regression-method I can evaluate the impact of the features on the ratings to see if they are worth considering in the fundamental decisions."
   ]
  }
 ],
 "metadata": {
  "kernelspec": {
   "display_name": "Python 3",
   "language": "python",
   "name": "python3"
  },
  "language_info": {
   "codemirror_mode": {
    "name": "ipython",
    "version": 3
   },
   "file_extension": ".py",
   "mimetype": "text/x-python",
   "name": "python",
   "nbconvert_exporter": "python",
   "pygments_lexer": "ipython3",
   "version": "3.7.4"
  }
 },
 "nbformat": 4,
 "nbformat_minor": 2
}
