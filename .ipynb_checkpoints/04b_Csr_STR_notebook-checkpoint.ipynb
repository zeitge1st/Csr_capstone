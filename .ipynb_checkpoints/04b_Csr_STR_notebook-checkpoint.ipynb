{
 "cells": [
  {
   "cell_type": "markdown",
   "metadata": {},
   "source": [
    "# Restaurants and cafes in Stuttgart\n",
    "## Influence of location and type of cuisine on future ratings"
   ]
  },
  {
   "cell_type": "markdown",
   "metadata": {},
   "source": [
    "**Introduction of the problem:**<br>\n",
    "For sure, the ratings of a restaurant are highly dependent on the quality of the food, the service and the whole atmosphere.<br>\n",
    "**BUT** beside these criteria of a running business, are there fundamental conditions I can set before opening a business which are influencing the future rating?<br>\n",
    "E.g. before I'm opening a restaurant business I have to decide<br> \n",
    "- where to locate it and <br>\n",
    "- which kind of cusine I want to offer.<br>\n",
    "<br>\n",
    "When taking the decision I should consider that this cuisine is demanded by customers in this area of the city.<br>\n",
    "<br>\n",
    "Of course, I can't look in the future or asking all the residents, but I can check how the existing businesses perform."
   ]
  },
  {
   "cell_type": "markdown",
   "metadata": {},
   "source": [
    "**Target audience:**<br>\n",
    "Future business owner"
   ]
  },
  {
   "cell_type": "markdown",
   "metadata": {},
   "source": [
    "**Data**<br>\n",
    "I want to investigate this problem for the city of Stuttgart in Germany.<br>\n",
    "- As level of detail on the locations I'm choosing the ZIP-codes in the city area. This ZIP-code areas should sufficient enough to represent the different neighborhoods --> Web-source\n",
    "- For each ZIP-code area I can pull the geo coordinates to get reference points per neighborhood. --> GEOPY\n",
    "- With the geo coordinates I can get a list of food-related businesses from Foursquare which are close to each neighborhood\n",
    "- For each food-related business I'm pulling the rating from Foursquare.\n",
    "- For exotic cuisine I won't have enough data that's why I'm focusing on the top10-cuisines only.\n",
    "- My dataset consists of \"rating\" (as target) and \"close neighborhoods\" and \"cuisine\" (as features)\n",
    "- With a Linear Regression-method I can evaluate the impact of the features on the ratings to see if they are worth considering in the fundamental decisions."
   ]
  },
  {
   "cell_type": "markdown",
   "metadata": {},
   "source": [
    "**Methodology:**<br>\n",
    "I'm choosing the Linear Regression-method to predict the ratings, because the coefficients for each feature will show me if this feature plays a crucial role and it's worth considering."
   ]
  },
  {
   "cell_type": "code",
   "execution_count": 1,
   "metadata": {},
   "outputs": [],
   "source": [
    "import pandas as pd\n",
    "import numpy as np\n",
    "from geopy.geocoders import Nominatim # convert an address into latitude and longitude values\n",
    "from geopy.distance import geodesic\n",
    "\n",
    "import requests # library to handle requests\n",
    "from pandas.io.json import json_normalize # tranform JSON file into a pandas dataframe\n",
    "\n",
    "# Matplotlib and associated plotting modules\n",
    "import matplotlib.cm as cm\n",
    "import matplotlib.colors as colors"
   ]
  },
  {
   "cell_type": "markdown",
   "metadata": {},
   "source": [
    "## 1. Hoods in Stuttgart, GER"
   ]
  },
  {
   "cell_type": "markdown",
   "metadata": {},
   "source": [
    "### 1.1 Load ZIP-codes in Stuttgart city"
   ]
  },
  {
   "cell_type": "code",
   "execution_count": 2,
   "metadata": {},
   "outputs": [
    {
     "name": "stdout",
     "output_type": "stream",
     "text": [
      "<class 'pandas.core.frame.DataFrame'>\n",
      "RangeIndex: 30 entries, 0 to 29\n",
      "Data columns (total 2 columns):\n",
      "PLZ          30 non-null int64\n",
      "Stadtteil    30 non-null object\n",
      "dtypes: int64(1), object(1)\n",
      "memory usage: 560.0+ bytes\n"
     ]
    }
   ],
   "source": [
    "df_zip = pd.read_excel(\"701_Stuttgart_ZIP.xlsx\", header = 0)\n",
    "df_zip.info()"
   ]
  },
  {
   "cell_type": "code",
   "execution_count": 3,
   "metadata": {},
   "outputs": [
    {
     "data": {
      "text/html": [
       "<div>\n",
       "<style scoped>\n",
       "    .dataframe tbody tr th:only-of-type {\n",
       "        vertical-align: middle;\n",
       "    }\n",
       "\n",
       "    .dataframe tbody tr th {\n",
       "        vertical-align: top;\n",
       "    }\n",
       "\n",
       "    .dataframe thead th {\n",
       "        text-align: right;\n",
       "    }\n",
       "</style>\n",
       "<table border=\"1\" class=\"dataframe\">\n",
       "  <thead>\n",
       "    <tr style=\"text-align: right;\">\n",
       "      <th></th>\n",
       "      <th>PLZ</th>\n",
       "      <th>Stadtteil</th>\n",
       "    </tr>\n",
       "  </thead>\n",
       "  <tbody>\n",
       "    <tr>\n",
       "      <th>0</th>\n",
       "      <td>70173</td>\n",
       "      <td>Stuttgart-Mitte</td>\n",
       "    </tr>\n",
       "    <tr>\n",
       "      <th>1</th>\n",
       "      <td>70174</td>\n",
       "      <td>Stuttgart-Mitte</td>\n",
       "    </tr>\n",
       "    <tr>\n",
       "      <th>2</th>\n",
       "      <td>70174</td>\n",
       "      <td>Stuttgart-Nord</td>\n",
       "    </tr>\n",
       "    <tr>\n",
       "      <th>3</th>\n",
       "      <td>70174</td>\n",
       "      <td>Stuttgart-West</td>\n",
       "    </tr>\n",
       "    <tr>\n",
       "      <th>4</th>\n",
       "      <td>70176</td>\n",
       "      <td>Stuttgart-Mitte</td>\n",
       "    </tr>\n",
       "  </tbody>\n",
       "</table>\n",
       "</div>"
      ],
      "text/plain": [
       "     PLZ        Stadtteil\n",
       "0  70173  Stuttgart-Mitte\n",
       "1  70174  Stuttgart-Mitte\n",
       "2  70174   Stuttgart-Nord\n",
       "3  70174   Stuttgart-West\n",
       "4  70176  Stuttgart-Mitte"
      ]
     },
     "execution_count": 3,
     "metadata": {},
     "output_type": "execute_result"
    }
   ],
   "source": [
    "df_zip.head()"
   ]
  },
  {
   "cell_type": "code",
   "execution_count": 4,
   "metadata": {},
   "outputs": [
    {
     "data": {
      "text/html": [
       "<div>\n",
       "<style scoped>\n",
       "    .dataframe tbody tr th:only-of-type {\n",
       "        vertical-align: middle;\n",
       "    }\n",
       "\n",
       "    .dataframe tbody tr th {\n",
       "        vertical-align: top;\n",
       "    }\n",
       "\n",
       "    .dataframe thead th {\n",
       "        text-align: right;\n",
       "    }\n",
       "</style>\n",
       "<table border=\"1\" class=\"dataframe\">\n",
       "  <thead>\n",
       "    <tr style=\"text-align: right;\">\n",
       "      <th></th>\n",
       "      <th>Bad Cannstatt</th>\n",
       "      <th>Botnang</th>\n",
       "      <th>Feuerbach</th>\n",
       "      <th>Frauenkopf</th>\n",
       "      <th>Stuttgart-Mitte</th>\n",
       "      <th>Stuttgart-Nord</th>\n",
       "      <th>Stuttgart-Ost</th>\n",
       "      <th>Stuttgart-Süd</th>\n",
       "      <th>Stuttgart-West</th>\n",
       "    </tr>\n",
       "  </thead>\n",
       "  <tbody>\n",
       "    <tr>\n",
       "      <th>0</th>\n",
       "      <td>0</td>\n",
       "      <td>0</td>\n",
       "      <td>0</td>\n",
       "      <td>0</td>\n",
       "      <td>1</td>\n",
       "      <td>0</td>\n",
       "      <td>0</td>\n",
       "      <td>0</td>\n",
       "      <td>0</td>\n",
       "    </tr>\n",
       "    <tr>\n",
       "      <th>1</th>\n",
       "      <td>0</td>\n",
       "      <td>0</td>\n",
       "      <td>0</td>\n",
       "      <td>0</td>\n",
       "      <td>1</td>\n",
       "      <td>0</td>\n",
       "      <td>0</td>\n",
       "      <td>0</td>\n",
       "      <td>0</td>\n",
       "    </tr>\n",
       "    <tr>\n",
       "      <th>2</th>\n",
       "      <td>0</td>\n",
       "      <td>0</td>\n",
       "      <td>0</td>\n",
       "      <td>0</td>\n",
       "      <td>0</td>\n",
       "      <td>1</td>\n",
       "      <td>0</td>\n",
       "      <td>0</td>\n",
       "      <td>0</td>\n",
       "    </tr>\n",
       "    <tr>\n",
       "      <th>3</th>\n",
       "      <td>0</td>\n",
       "      <td>0</td>\n",
       "      <td>0</td>\n",
       "      <td>0</td>\n",
       "      <td>0</td>\n",
       "      <td>0</td>\n",
       "      <td>0</td>\n",
       "      <td>0</td>\n",
       "      <td>1</td>\n",
       "    </tr>\n",
       "    <tr>\n",
       "      <th>4</th>\n",
       "      <td>0</td>\n",
       "      <td>0</td>\n",
       "      <td>0</td>\n",
       "      <td>0</td>\n",
       "      <td>1</td>\n",
       "      <td>0</td>\n",
       "      <td>0</td>\n",
       "      <td>0</td>\n",
       "      <td>0</td>\n",
       "    </tr>\n",
       "  </tbody>\n",
       "</table>\n",
       "</div>"
      ],
      "text/plain": [
       "   Bad Cannstatt  Botnang  Feuerbach  Frauenkopf  Stuttgart-Mitte  \\\n",
       "0              0        0          0           0                1   \n",
       "1              0        0          0           0                1   \n",
       "2              0        0          0           0                0   \n",
       "3              0        0          0           0                0   \n",
       "4              0        0          0           0                1   \n",
       "\n",
       "   Stuttgart-Nord  Stuttgart-Ost  Stuttgart-Süd  Stuttgart-West  \n",
       "0               0              0              0               0  \n",
       "1               0              0              0               0  \n",
       "2               1              0              0               0  \n",
       "3               0              0              0               1  \n",
       "4               0              0              0               0  "
      ]
     },
     "execution_count": 4,
     "metadata": {},
     "output_type": "execute_result"
    }
   ],
   "source": [
    "# No distinct ZIP-codes -> One Hot Encoding of hoods\n",
    "df_onehot_hoods = pd.get_dummies(df_zip[\"Stadtteil\"])\n",
    "df_onehot_hoods.head()"
   ]
  },
  {
   "cell_type": "code",
   "execution_count": 5,
   "metadata": {},
   "outputs": [
    {
     "data": {
      "text/plain": [
       "(30, 9)"
      ]
     },
     "execution_count": 5,
     "metadata": {},
     "output_type": "execute_result"
    }
   ],
   "source": [
    "df_onehot_hoods.shape"
   ]
  },
  {
   "cell_type": "code",
   "execution_count": 6,
   "metadata": {},
   "outputs": [
    {
     "data": {
      "text/html": [
       "<div>\n",
       "<style scoped>\n",
       "    .dataframe tbody tr th:only-of-type {\n",
       "        vertical-align: middle;\n",
       "    }\n",
       "\n",
       "    .dataframe tbody tr th {\n",
       "        vertical-align: top;\n",
       "    }\n",
       "\n",
       "    .dataframe thead th {\n",
       "        text-align: right;\n",
       "    }\n",
       "</style>\n",
       "<table border=\"1\" class=\"dataframe\">\n",
       "  <thead>\n",
       "    <tr style=\"text-align: right;\">\n",
       "      <th></th>\n",
       "      <th>PLZ</th>\n",
       "      <th>Stadtteil</th>\n",
       "      <th>Bad Cannstatt</th>\n",
       "      <th>Botnang</th>\n",
       "      <th>Feuerbach</th>\n",
       "      <th>Frauenkopf</th>\n",
       "      <th>Stuttgart-Mitte</th>\n",
       "      <th>Stuttgart-Nord</th>\n",
       "      <th>Stuttgart-Ost</th>\n",
       "      <th>Stuttgart-Süd</th>\n",
       "      <th>Stuttgart-West</th>\n",
       "    </tr>\n",
       "  </thead>\n",
       "  <tbody>\n",
       "    <tr>\n",
       "      <th>0</th>\n",
       "      <td>70173</td>\n",
       "      <td>Stuttgart-Mitte</td>\n",
       "      <td>0</td>\n",
       "      <td>0</td>\n",
       "      <td>0</td>\n",
       "      <td>0</td>\n",
       "      <td>1</td>\n",
       "      <td>0</td>\n",
       "      <td>0</td>\n",
       "      <td>0</td>\n",
       "      <td>0</td>\n",
       "    </tr>\n",
       "    <tr>\n",
       "      <th>1</th>\n",
       "      <td>70174</td>\n",
       "      <td>Stuttgart-Mitte</td>\n",
       "      <td>0</td>\n",
       "      <td>0</td>\n",
       "      <td>0</td>\n",
       "      <td>0</td>\n",
       "      <td>1</td>\n",
       "      <td>0</td>\n",
       "      <td>0</td>\n",
       "      <td>0</td>\n",
       "      <td>0</td>\n",
       "    </tr>\n",
       "    <tr>\n",
       "      <th>2</th>\n",
       "      <td>70174</td>\n",
       "      <td>Stuttgart-Nord</td>\n",
       "      <td>0</td>\n",
       "      <td>0</td>\n",
       "      <td>0</td>\n",
       "      <td>0</td>\n",
       "      <td>0</td>\n",
       "      <td>1</td>\n",
       "      <td>0</td>\n",
       "      <td>0</td>\n",
       "      <td>0</td>\n",
       "    </tr>\n",
       "    <tr>\n",
       "      <th>3</th>\n",
       "      <td>70174</td>\n",
       "      <td>Stuttgart-West</td>\n",
       "      <td>0</td>\n",
       "      <td>0</td>\n",
       "      <td>0</td>\n",
       "      <td>0</td>\n",
       "      <td>0</td>\n",
       "      <td>0</td>\n",
       "      <td>0</td>\n",
       "      <td>0</td>\n",
       "      <td>1</td>\n",
       "    </tr>\n",
       "    <tr>\n",
       "      <th>4</th>\n",
       "      <td>70176</td>\n",
       "      <td>Stuttgart-Mitte</td>\n",
       "      <td>0</td>\n",
       "      <td>0</td>\n",
       "      <td>0</td>\n",
       "      <td>0</td>\n",
       "      <td>1</td>\n",
       "      <td>0</td>\n",
       "      <td>0</td>\n",
       "      <td>0</td>\n",
       "      <td>0</td>\n",
       "    </tr>\n",
       "  </tbody>\n",
       "</table>\n",
       "</div>"
      ],
      "text/plain": [
       "     PLZ        Stadtteil  Bad Cannstatt  Botnang  Feuerbach  Frauenkopf  \\\n",
       "0  70173  Stuttgart-Mitte              0        0          0           0   \n",
       "1  70174  Stuttgart-Mitte              0        0          0           0   \n",
       "2  70174   Stuttgart-Nord              0        0          0           0   \n",
       "3  70174   Stuttgart-West              0        0          0           0   \n",
       "4  70176  Stuttgart-Mitte              0        0          0           0   \n",
       "\n",
       "   Stuttgart-Mitte  Stuttgart-Nord  Stuttgart-Ost  Stuttgart-Süd  \\\n",
       "0                1               0              0              0   \n",
       "1                1               0              0              0   \n",
       "2                0               1              0              0   \n",
       "3                0               0              0              0   \n",
       "4                1               0              0              0   \n",
       "\n",
       "   Stuttgart-West  \n",
       "0               0  \n",
       "1               0  \n",
       "2               0  \n",
       "3               1  \n",
       "4               0  "
      ]
     },
     "execution_count": 6,
     "metadata": {},
     "output_type": "execute_result"
    }
   ],
   "source": [
    "df_zip_merged = df_zip.join(df_onehot_hoods, how=\"left\")\n",
    "df_zip_merged.head()"
   ]
  },
  {
   "cell_type": "code",
   "execution_count": 7,
   "metadata": {},
   "outputs": [
    {
     "data": {
      "text/plain": [
       "(30, 11)"
      ]
     },
     "execution_count": 7,
     "metadata": {},
     "output_type": "execute_result"
    }
   ],
   "source": [
    "df_zip_merged.shape"
   ]
  },
  {
   "cell_type": "code",
   "execution_count": 8,
   "metadata": {},
   "outputs": [],
   "source": [
    "#remove col \"Stadtteil\"\n",
    "df_zip_merged.drop(\"Stadtteil\", inplace=True, axis=1)"
   ]
  },
  {
   "cell_type": "code",
   "execution_count": 9,
   "metadata": {},
   "outputs": [
    {
     "name": "stdout",
     "output_type": "stream",
     "text": [
      "<class 'pandas.core.frame.DataFrame'>\n",
      "RangeIndex: 30 entries, 0 to 29\n",
      "Data columns (total 10 columns):\n",
      "PLZ                30 non-null int64\n",
      "Bad Cannstatt      30 non-null uint8\n",
      "Botnang            30 non-null uint8\n",
      "Feuerbach          30 non-null uint8\n",
      "Frauenkopf         30 non-null uint8\n",
      "Stuttgart-Mitte    30 non-null uint8\n",
      "Stuttgart-Nord     30 non-null uint8\n",
      "Stuttgart-Ost      30 non-null uint8\n",
      "Stuttgart-Süd      30 non-null uint8\n",
      "Stuttgart-West     30 non-null uint8\n",
      "dtypes: int64(1), uint8(9)\n",
      "memory usage: 590.0 bytes\n"
     ]
    }
   ],
   "source": [
    "df_zip_merged.info()"
   ]
  },
  {
   "cell_type": "code",
   "execution_count": 10,
   "metadata": {},
   "outputs": [
    {
     "data": {
      "text/html": [
       "<div>\n",
       "<style scoped>\n",
       "    .dataframe tbody tr th:only-of-type {\n",
       "        vertical-align: middle;\n",
       "    }\n",
       "\n",
       "    .dataframe tbody tr th {\n",
       "        vertical-align: top;\n",
       "    }\n",
       "\n",
       "    .dataframe thead th {\n",
       "        text-align: right;\n",
       "    }\n",
       "</style>\n",
       "<table border=\"1\" class=\"dataframe\">\n",
       "  <thead>\n",
       "    <tr style=\"text-align: right;\">\n",
       "      <th></th>\n",
       "      <th>PLZ</th>\n",
       "      <th>Bad Cannstatt</th>\n",
       "      <th>Botnang</th>\n",
       "      <th>Feuerbach</th>\n",
       "      <th>Frauenkopf</th>\n",
       "      <th>Stuttgart-Mitte</th>\n",
       "      <th>Stuttgart-Nord</th>\n",
       "      <th>Stuttgart-Ost</th>\n",
       "      <th>Stuttgart-Süd</th>\n",
       "      <th>Stuttgart-West</th>\n",
       "    </tr>\n",
       "  </thead>\n",
       "  <tbody>\n",
       "    <tr>\n",
       "      <th>0</th>\n",
       "      <td>70173</td>\n",
       "      <td>0</td>\n",
       "      <td>0</td>\n",
       "      <td>0</td>\n",
       "      <td>0</td>\n",
       "      <td>1</td>\n",
       "      <td>0</td>\n",
       "      <td>0</td>\n",
       "      <td>0</td>\n",
       "      <td>0</td>\n",
       "    </tr>\n",
       "    <tr>\n",
       "      <th>1</th>\n",
       "      <td>70174</td>\n",
       "      <td>0</td>\n",
       "      <td>0</td>\n",
       "      <td>0</td>\n",
       "      <td>0</td>\n",
       "      <td>1</td>\n",
       "      <td>1</td>\n",
       "      <td>0</td>\n",
       "      <td>0</td>\n",
       "      <td>1</td>\n",
       "    </tr>\n",
       "    <tr>\n",
       "      <th>2</th>\n",
       "      <td>70176</td>\n",
       "      <td>0</td>\n",
       "      <td>0</td>\n",
       "      <td>0</td>\n",
       "      <td>0</td>\n",
       "      <td>1</td>\n",
       "      <td>0</td>\n",
       "      <td>0</td>\n",
       "      <td>0</td>\n",
       "      <td>1</td>\n",
       "    </tr>\n",
       "    <tr>\n",
       "      <th>3</th>\n",
       "      <td>70178</td>\n",
       "      <td>0</td>\n",
       "      <td>0</td>\n",
       "      <td>0</td>\n",
       "      <td>0</td>\n",
       "      <td>1</td>\n",
       "      <td>0</td>\n",
       "      <td>0</td>\n",
       "      <td>1</td>\n",
       "      <td>1</td>\n",
       "    </tr>\n",
       "    <tr>\n",
       "      <th>4</th>\n",
       "      <td>70180</td>\n",
       "      <td>0</td>\n",
       "      <td>0</td>\n",
       "      <td>0</td>\n",
       "      <td>0</td>\n",
       "      <td>1</td>\n",
       "      <td>0</td>\n",
       "      <td>0</td>\n",
       "      <td>1</td>\n",
       "      <td>0</td>\n",
       "    </tr>\n",
       "  </tbody>\n",
       "</table>\n",
       "</div>"
      ],
      "text/plain": [
       "     PLZ  Bad Cannstatt  Botnang  Feuerbach  Frauenkopf  Stuttgart-Mitte  \\\n",
       "0  70173              0        0          0           0                1   \n",
       "1  70174              0        0          0           0                1   \n",
       "2  70176              0        0          0           0                1   \n",
       "3  70178              0        0          0           0                1   \n",
       "4  70180              0        0          0           0                1   \n",
       "\n",
       "   Stuttgart-Nord  Stuttgart-Ost  Stuttgart-Süd  Stuttgart-West  \n",
       "0               0              0              0               0  \n",
       "1               1              0              0               1  \n",
       "2               0              0              0               1  \n",
       "3               0              0              1               1  \n",
       "4               0              0              1               0  "
      ]
     },
     "execution_count": 10,
     "metadata": {},
     "output_type": "execute_result"
    }
   ],
   "source": [
    "# Distinct ZIPs \n",
    "df_zip_grouped = df_zip_merged.groupby([\"PLZ\"]).sum().reset_index()\n",
    "df_zip_grouped.head()"
   ]
  },
  {
   "cell_type": "code",
   "execution_count": 11,
   "metadata": {},
   "outputs": [
    {
     "data": {
      "text/plain": [
       "(16, 10)"
      ]
     },
     "execution_count": 11,
     "metadata": {},
     "output_type": "execute_result"
    }
   ],
   "source": [
    "df_zip_grouped.shape"
   ]
  },
  {
   "cell_type": "markdown",
   "metadata": {},
   "source": [
    "### 1.2 Get geo coords for ZIP-codes"
   ]
  },
  {
   "cell_type": "code",
   "execution_count": 12,
   "metadata": {},
   "outputs": [],
   "source": [
    "# Function to pull geo coordinates based on ZIP codes\n",
    "def getCoordsSTR(zip_codes):\n",
    "    address_suffix = \" Stuttgart, Germany\"\n",
    "    address_zip = \"\"\n",
    "    list_coords = []\n",
    "    \n",
    "    for code in zip_codes:\n",
    "        address_zip = str(code)\n",
    "        address = address_zip + address_suffix\n",
    "        \n",
    "        geolocator = Nominatim(user_agent=\"foursquare_agent\")\n",
    "        location = geolocator.geocode(address)\n",
    "        latitude = location.latitude\n",
    "        longitude = location.longitude\n",
    "        \n",
    "        list_coords.append([code, latitude, longitude])\n",
    "    \n",
    "    df_list = pd.DataFrame(list_coords, columns=[\"PLZ\", \"Latitude\", \"Longitude\"])\n",
    "    \n",
    "    return(df_list)"
   ]
  },
  {
   "cell_type": "code",
   "execution_count": 13,
   "metadata": {},
   "outputs": [
    {
     "data": {
      "text/html": [
       "<div>\n",
       "<style scoped>\n",
       "    .dataframe tbody tr th:only-of-type {\n",
       "        vertical-align: middle;\n",
       "    }\n",
       "\n",
       "    .dataframe tbody tr th {\n",
       "        vertical-align: top;\n",
       "    }\n",
       "\n",
       "    .dataframe thead th {\n",
       "        text-align: right;\n",
       "    }\n",
       "</style>\n",
       "<table border=\"1\" class=\"dataframe\">\n",
       "  <thead>\n",
       "    <tr style=\"text-align: right;\">\n",
       "      <th></th>\n",
       "      <th>PLZ</th>\n",
       "      <th>Latitude</th>\n",
       "      <th>Longitude</th>\n",
       "    </tr>\n",
       "  </thead>\n",
       "  <tbody>\n",
       "    <tr>\n",
       "      <th>0</th>\n",
       "      <td>70173</td>\n",
       "      <td>48.777845</td>\n",
       "      <td>9.178425</td>\n",
       "    </tr>\n",
       "    <tr>\n",
       "      <th>1</th>\n",
       "      <td>70174</td>\n",
       "      <td>48.782793</td>\n",
       "      <td>9.169334</td>\n",
       "    </tr>\n",
       "    <tr>\n",
       "      <th>2</th>\n",
       "      <td>70176</td>\n",
       "      <td>48.777425</td>\n",
       "      <td>9.161045</td>\n",
       "    </tr>\n",
       "    <tr>\n",
       "      <th>3</th>\n",
       "      <td>70178</td>\n",
       "      <td>48.769172</td>\n",
       "      <td>9.167613</td>\n",
       "    </tr>\n",
       "    <tr>\n",
       "      <th>4</th>\n",
       "      <td>70180</td>\n",
       "      <td>48.764008</td>\n",
       "      <td>9.174807</td>\n",
       "    </tr>\n",
       "  </tbody>\n",
       "</table>\n",
       "</div>"
      ],
      "text/plain": [
       "     PLZ   Latitude  Longitude\n",
       "0  70173  48.777845   9.178425\n",
       "1  70174  48.782793   9.169334\n",
       "2  70176  48.777425   9.161045\n",
       "3  70178  48.769172   9.167613\n",
       "4  70180  48.764008   9.174807"
      ]
     },
     "execution_count": 13,
     "metadata": {},
     "output_type": "execute_result"
    }
   ],
   "source": [
    "df_coords = getCoordsSTR(df_zip_grouped[\"PLZ\"])\n",
    "df_coords.head()"
   ]
  },
  {
   "cell_type": "code",
   "execution_count": 14,
   "metadata": {},
   "outputs": [
    {
     "name": "stdout",
     "output_type": "stream",
     "text": [
      "<class 'pandas.core.frame.DataFrame'>\n",
      "Int64Index: 16 entries, 0 to 15\n",
      "Data columns (total 12 columns):\n",
      "PLZ                16 non-null int64\n",
      "Bad Cannstatt      16 non-null uint8\n",
      "Botnang            16 non-null uint8\n",
      "Feuerbach          16 non-null uint8\n",
      "Frauenkopf         16 non-null uint8\n",
      "Stuttgart-Mitte    16 non-null uint8\n",
      "Stuttgart-Nord     16 non-null uint8\n",
      "Stuttgart-Ost      16 non-null uint8\n",
      "Stuttgart-Süd      16 non-null uint8\n",
      "Stuttgart-West     16 non-null uint8\n",
      "Latitude           16 non-null float64\n",
      "Longitude          16 non-null float64\n",
      "dtypes: float64(2), int64(1), uint8(9)\n",
      "memory usage: 656.0 bytes\n"
     ]
    }
   ],
   "source": [
    "df_str_geo = pd.merge(df_zip_grouped, df_coords, how=\"left\", on=\"PLZ\")\n",
    "df_str_geo.info()"
   ]
  },
  {
   "cell_type": "markdown",
   "metadata": {},
   "source": [
    "### 1.3 Get distances between ZIPs"
   ]
  },
  {
   "cell_type": "code",
   "execution_count": 15,
   "metadata": {},
   "outputs": [],
   "source": [
    "df_source = df_str_geo.loc[:, [\"PLZ\"]]"
   ]
  },
  {
   "cell_type": "code",
   "execution_count": 16,
   "metadata": {},
   "outputs": [
    {
     "name": "stdout",
     "output_type": "stream",
     "text": [
      "<class 'pandas.core.frame.DataFrame'>\n",
      "RangeIndex: 256 entries, 0 to 255\n",
      "Data columns (total 2 columns):\n",
      "Source    256 non-null int64\n",
      "Sink      256 non-null int64\n",
      "dtypes: int64(2)\n",
      "memory usage: 4.1 KB\n"
     ]
    }
   ],
   "source": [
    "# Create distance matrix with all source-sink-relations\n",
    "\n",
    "list_relations = []\n",
    "\n",
    "for index_source, row_source in df_source.iterrows():\n",
    "    for index_sink, row_sink in df_source.iterrows():\n",
    "        list_relations.append([row_source[0], row_sink[0]])\n",
    "                               \n",
    "df_dist = pd.DataFrame(list_relations, columns=[\"Source\", \"Sink\"])\n",
    "df_dist.info()"
   ]
  },
  {
   "cell_type": "code",
   "execution_count": 17,
   "metadata": {},
   "outputs": [
    {
     "data": {
      "text/html": [
       "<div>\n",
       "<style scoped>\n",
       "    .dataframe tbody tr th:only-of-type {\n",
       "        vertical-align: middle;\n",
       "    }\n",
       "\n",
       "    .dataframe tbody tr th {\n",
       "        vertical-align: top;\n",
       "    }\n",
       "\n",
       "    .dataframe thead th {\n",
       "        text-align: right;\n",
       "    }\n",
       "</style>\n",
       "<table border=\"1\" class=\"dataframe\">\n",
       "  <thead>\n",
       "    <tr style=\"text-align: right;\">\n",
       "      <th></th>\n",
       "      <th>Source</th>\n",
       "      <th>Sink</th>\n",
       "    </tr>\n",
       "  </thead>\n",
       "  <tbody>\n",
       "    <tr>\n",
       "      <th>0</th>\n",
       "      <td>70173</td>\n",
       "      <td>70173</td>\n",
       "    </tr>\n",
       "    <tr>\n",
       "      <th>1</th>\n",
       "      <td>70173</td>\n",
       "      <td>70174</td>\n",
       "    </tr>\n",
       "    <tr>\n",
       "      <th>2</th>\n",
       "      <td>70173</td>\n",
       "      <td>70176</td>\n",
       "    </tr>\n",
       "    <tr>\n",
       "      <th>3</th>\n",
       "      <td>70173</td>\n",
       "      <td>70178</td>\n",
       "    </tr>\n",
       "    <tr>\n",
       "      <th>4</th>\n",
       "      <td>70173</td>\n",
       "      <td>70180</td>\n",
       "    </tr>\n",
       "  </tbody>\n",
       "</table>\n",
       "</div>"
      ],
      "text/plain": [
       "   Source   Sink\n",
       "0   70173  70173\n",
       "1   70173  70174\n",
       "2   70173  70176\n",
       "3   70173  70178\n",
       "4   70173  70180"
      ]
     },
     "execution_count": 17,
     "metadata": {},
     "output_type": "execute_result"
    }
   ],
   "source": [
    "df_dist.head()"
   ]
  },
  {
   "cell_type": "code",
   "execution_count": 18,
   "metadata": {},
   "outputs": [
    {
     "name": "stdout",
     "output_type": "stream",
     "text": [
      "<class 'pandas.core.frame.DataFrame'>\n",
      "Int64Index: 16 entries, 0 to 15\n",
      "Data columns (total 3 columns):\n",
      "PLZ          16 non-null int64\n",
      "Latitude     16 non-null float64\n",
      "Longitude    16 non-null float64\n",
      "dtypes: float64(2), int64(1)\n",
      "memory usage: 512.0 bytes\n"
     ]
    }
   ],
   "source": [
    "df_provide_geo = df_str_geo.loc[:, [\"PLZ\", \"Latitude\", \"Longitude\"]]\n",
    "df_provide_geo.info()"
   ]
  },
  {
   "cell_type": "code",
   "execution_count": 19,
   "metadata": {},
   "outputs": [
    {
     "name": "stdout",
     "output_type": "stream",
     "text": [
      "<class 'pandas.core.frame.DataFrame'>\n",
      "Int64Index: 256 entries, 0 to 255\n",
      "Data columns (total 5 columns):\n",
      "Source       256 non-null int64\n",
      "Sink         256 non-null int64\n",
      "PLZ          256 non-null int64\n",
      "Latitude     256 non-null float64\n",
      "Longitude    256 non-null float64\n",
      "dtypes: float64(2), int64(3)\n",
      "memory usage: 12.0 KB\n"
     ]
    }
   ],
   "source": [
    "# Map coordinates for source\n",
    "df_dist1 = pd.merge(df_dist, df_provide_geo, how=\"left\", left_on=\"Source\", right_on=\"PLZ\", copy=False)\n",
    "df_dist1.info()"
   ]
  },
  {
   "cell_type": "code",
   "execution_count": 20,
   "metadata": {},
   "outputs": [
    {
     "name": "stdout",
     "output_type": "stream",
     "text": [
      "<class 'pandas.core.frame.DataFrame'>\n",
      "Int64Index: 256 entries, 0 to 255\n",
      "Data columns (total 4 columns):\n",
      "Source         256 non-null int64\n",
      "Sink           256 non-null int64\n",
      "Source_lat     256 non-null float64\n",
      "Source_lngt    256 non-null float64\n",
      "dtypes: float64(2), int64(2)\n",
      "memory usage: 10.0 KB\n"
     ]
    }
   ],
   "source": [
    "df_dist1.rename(columns={\"Latitude\": \"Source_lat\", \"Longitude\":\"Source_lngt\"}, inplace=True)\n",
    "df_dist1.drop(\"PLZ\", axis=1, inplace=True)\n",
    "df_dist1.info()"
   ]
  },
  {
   "cell_type": "code",
   "execution_count": 21,
   "metadata": {},
   "outputs": [
    {
     "name": "stdout",
     "output_type": "stream",
     "text": [
      "<class 'pandas.core.frame.DataFrame'>\n",
      "Int64Index: 256 entries, 0 to 255\n",
      "Data columns (total 7 columns):\n",
      "Source         256 non-null int64\n",
      "Sink           256 non-null int64\n",
      "Source_lat     256 non-null float64\n",
      "Source_lngt    256 non-null float64\n",
      "PLZ            256 non-null int64\n",
      "Latitude       256 non-null float64\n",
      "Longitude      256 non-null float64\n",
      "dtypes: float64(4), int64(3)\n",
      "memory usage: 16.0 KB\n"
     ]
    }
   ],
   "source": [
    "# Map coordinates for source\n",
    "df_dist2 = pd.merge(df_dist1, df_provide_geo, how=\"left\", left_on=\"Sink\", right_on=\"PLZ\", copy=False)\n",
    "df_dist2.info()"
   ]
  },
  {
   "cell_type": "code",
   "execution_count": 22,
   "metadata": {},
   "outputs": [
    {
     "data": {
      "text/html": [
       "<div>\n",
       "<style scoped>\n",
       "    .dataframe tbody tr th:only-of-type {\n",
       "        vertical-align: middle;\n",
       "    }\n",
       "\n",
       "    .dataframe tbody tr th {\n",
       "        vertical-align: top;\n",
       "    }\n",
       "\n",
       "    .dataframe thead th {\n",
       "        text-align: right;\n",
       "    }\n",
       "</style>\n",
       "<table border=\"1\" class=\"dataframe\">\n",
       "  <thead>\n",
       "    <tr style=\"text-align: right;\">\n",
       "      <th></th>\n",
       "      <th>Source</th>\n",
       "      <th>Sink</th>\n",
       "      <th>Source_lat</th>\n",
       "      <th>Source_lngt</th>\n",
       "      <th>Sink_lat</th>\n",
       "      <th>Sink_lngt</th>\n",
       "    </tr>\n",
       "  </thead>\n",
       "  <tbody>\n",
       "    <tr>\n",
       "      <th>0</th>\n",
       "      <td>70173</td>\n",
       "      <td>70173</td>\n",
       "      <td>48.777845</td>\n",
       "      <td>9.178425</td>\n",
       "      <td>48.777845</td>\n",
       "      <td>9.178425</td>\n",
       "    </tr>\n",
       "    <tr>\n",
       "      <th>1</th>\n",
       "      <td>70173</td>\n",
       "      <td>70174</td>\n",
       "      <td>48.777845</td>\n",
       "      <td>9.178425</td>\n",
       "      <td>48.782793</td>\n",
       "      <td>9.169334</td>\n",
       "    </tr>\n",
       "    <tr>\n",
       "      <th>2</th>\n",
       "      <td>70173</td>\n",
       "      <td>70176</td>\n",
       "      <td>48.777845</td>\n",
       "      <td>9.178425</td>\n",
       "      <td>48.777425</td>\n",
       "      <td>9.161045</td>\n",
       "    </tr>\n",
       "    <tr>\n",
       "      <th>3</th>\n",
       "      <td>70173</td>\n",
       "      <td>70178</td>\n",
       "      <td>48.777845</td>\n",
       "      <td>9.178425</td>\n",
       "      <td>48.769172</td>\n",
       "      <td>9.167613</td>\n",
       "    </tr>\n",
       "    <tr>\n",
       "      <th>4</th>\n",
       "      <td>70173</td>\n",
       "      <td>70180</td>\n",
       "      <td>48.777845</td>\n",
       "      <td>9.178425</td>\n",
       "      <td>48.764008</td>\n",
       "      <td>9.174807</td>\n",
       "    </tr>\n",
       "  </tbody>\n",
       "</table>\n",
       "</div>"
      ],
      "text/plain": [
       "   Source   Sink  Source_lat  Source_lngt   Sink_lat  Sink_lngt\n",
       "0   70173  70173   48.777845     9.178425  48.777845   9.178425\n",
       "1   70173  70174   48.777845     9.178425  48.782793   9.169334\n",
       "2   70173  70176   48.777845     9.178425  48.777425   9.161045\n",
       "3   70173  70178   48.777845     9.178425  48.769172   9.167613\n",
       "4   70173  70180   48.777845     9.178425  48.764008   9.174807"
      ]
     },
     "execution_count": 22,
     "metadata": {},
     "output_type": "execute_result"
    }
   ],
   "source": [
    "df_dist2.rename(columns={\"Latitude\": \"Sink_lat\", \"Longitude\":\"Sink_lngt\"}, inplace=True)\n",
    "df_dist2.drop(\"PLZ\", axis=1, inplace=True)\n",
    "df_dist2.head()"
   ]
  },
  {
   "cell_type": "code",
   "execution_count": 23,
   "metadata": {},
   "outputs": [
    {
     "data": {
      "text/plain": [
       "256"
      ]
     },
     "execution_count": 23,
     "metadata": {},
     "output_type": "execute_result"
    }
   ],
   "source": [
    "# Now we have a distance matrix we can use to pull the distances\n",
    "\n",
    "list_distances = []\n",
    "\n",
    "for index, row in df_dist2.iterrows():\n",
    "    source_lat = row[2]\n",
    "    source_lngt = row[3]\n",
    "    sink_lat = row[4]\n",
    "    sink_lngt = row[5]\n",
    "    source = (source_lat, source_lngt)\n",
    "    sink = (sink_lat, sink_lngt)\n",
    "    \n",
    "    list_distances.append(np.round(geodesic(source, sink).meters, 0))\n",
    "    \n",
    "len(list_distances)"
   ]
  },
  {
   "cell_type": "code",
   "execution_count": 24,
   "metadata": {},
   "outputs": [
    {
     "data": {
      "text/html": [
       "<div>\n",
       "<style scoped>\n",
       "    .dataframe tbody tr th:only-of-type {\n",
       "        vertical-align: middle;\n",
       "    }\n",
       "\n",
       "    .dataframe tbody tr th {\n",
       "        vertical-align: top;\n",
       "    }\n",
       "\n",
       "    .dataframe thead th {\n",
       "        text-align: right;\n",
       "    }\n",
       "</style>\n",
       "<table border=\"1\" class=\"dataframe\">\n",
       "  <thead>\n",
       "    <tr style=\"text-align: right;\">\n",
       "      <th></th>\n",
       "      <th>Distance_m</th>\n",
       "    </tr>\n",
       "  </thead>\n",
       "  <tbody>\n",
       "    <tr>\n",
       "      <th>0</th>\n",
       "      <td>0.0</td>\n",
       "    </tr>\n",
       "    <tr>\n",
       "      <th>1</th>\n",
       "      <td>866.0</td>\n",
       "    </tr>\n",
       "    <tr>\n",
       "      <th>2</th>\n",
       "      <td>1278.0</td>\n",
       "    </tr>\n",
       "    <tr>\n",
       "      <th>3</th>\n",
       "      <td>1250.0</td>\n",
       "    </tr>\n",
       "    <tr>\n",
       "      <th>4</th>\n",
       "      <td>1562.0</td>\n",
       "    </tr>\n",
       "  </tbody>\n",
       "</table>\n",
       "</div>"
      ],
      "text/plain": [
       "   Distance_m\n",
       "0         0.0\n",
       "1       866.0\n",
       "2      1278.0\n",
       "3      1250.0\n",
       "4      1562.0"
      ]
     },
     "execution_count": 24,
     "metadata": {},
     "output_type": "execute_result"
    }
   ],
   "source": [
    "df_result_dist = pd.DataFrame(list_distances, columns=[\"Distance_m\"])\n",
    "df_result_dist.head()"
   ]
  },
  {
   "cell_type": "code",
   "execution_count": 25,
   "metadata": {},
   "outputs": [
    {
     "name": "stdout",
     "output_type": "stream",
     "text": [
      "<class 'pandas.core.frame.DataFrame'>\n",
      "Int64Index: 256 entries, 0 to 255\n",
      "Data columns (total 7 columns):\n",
      "Source         256 non-null int64\n",
      "Sink           256 non-null int64\n",
      "Source_lat     256 non-null float64\n",
      "Source_lngt    256 non-null float64\n",
      "Sink_lat       256 non-null float64\n",
      "Sink_lngt      256 non-null float64\n",
      "Distance_m     256 non-null float64\n",
      "dtypes: float64(5), int64(2)\n",
      "memory usage: 26.0 KB\n"
     ]
    }
   ],
   "source": [
    "df_dist3 = df_dist2.join(df_result_dist, how=\"left\")\n",
    "df_dist3.info()"
   ]
  },
  {
   "cell_type": "code",
   "execution_count": 26,
   "metadata": {},
   "outputs": [
    {
     "name": "stdout",
     "output_type": "stream",
     "text": [
      "<class 'pandas.core.frame.DataFrame'>\n",
      "Int64Index: 240 entries, 1 to 254\n",
      "Data columns (total 7 columns):\n",
      "Source         240 non-null int64\n",
      "Sink           240 non-null int64\n",
      "Source_lat     240 non-null float64\n",
      "Source_lngt    240 non-null float64\n",
      "Sink_lat       240 non-null float64\n",
      "Sink_lngt      240 non-null float64\n",
      "Distance_m     240 non-null float64\n",
      "dtypes: float64(5), int64(2)\n",
      "memory usage: 15.0 KB\n"
     ]
    }
   ],
   "source": [
    "# Drop zero distances\n",
    "index_zero = df_dist3[df_dist3[\"Distance_m\"] == 0].index\n",
    "df_dist3.drop(index_zero, axis=0, inplace=True)\n",
    "df_dist3.info()"
   ]
  },
  {
   "cell_type": "code",
   "execution_count": 27,
   "metadata": {},
   "outputs": [],
   "source": [
    "# Group by Source to get distance to closest adjacent ZIP-area (min distance) \n",
    "df_dist_grouped = df_dist3.groupby([\"Source\"])[\"Distance_m\"].min().reset_index()"
   ]
  },
  {
   "cell_type": "code",
   "execution_count": 28,
   "metadata": {},
   "outputs": [
    {
     "name": "stdout",
     "output_type": "stream",
     "text": [
      "<class 'pandas.core.frame.DataFrame'>\n",
      "Int64Index: 16 entries, 0 to 15\n",
      "Data columns (total 14 columns):\n",
      "PLZ                16 non-null int64\n",
      "Bad Cannstatt      16 non-null uint8\n",
      "Botnang            16 non-null uint8\n",
      "Feuerbach          16 non-null uint8\n",
      "Frauenkopf         16 non-null uint8\n",
      "Stuttgart-Mitte    16 non-null uint8\n",
      "Stuttgart-Nord     16 non-null uint8\n",
      "Stuttgart-Ost      16 non-null uint8\n",
      "Stuttgart-Süd      16 non-null uint8\n",
      "Stuttgart-West     16 non-null uint8\n",
      "Latitude           16 non-null float64\n",
      "Longitude          16 non-null float64\n",
      "Source             16 non-null int64\n",
      "Distance_m         16 non-null float64\n",
      "dtypes: float64(3), int64(2), uint8(9)\n",
      "memory usage: 912.0 bytes\n"
     ]
    }
   ],
   "source": [
    "df_str_input = pd.merge(df_str_geo, df_dist_grouped, how=\"left\", left_on=\"PLZ\", right_on=\"Source\")\n",
    "df_str_input.info()"
   ]
  },
  {
   "cell_type": "code",
   "execution_count": 29,
   "metadata": {},
   "outputs": [
    {
     "data": {
      "text/html": [
       "<div>\n",
       "<style scoped>\n",
       "    .dataframe tbody tr th:only-of-type {\n",
       "        vertical-align: middle;\n",
       "    }\n",
       "\n",
       "    .dataframe tbody tr th {\n",
       "        vertical-align: top;\n",
       "    }\n",
       "\n",
       "    .dataframe thead th {\n",
       "        text-align: right;\n",
       "    }\n",
       "</style>\n",
       "<table border=\"1\" class=\"dataframe\">\n",
       "  <thead>\n",
       "    <tr style=\"text-align: right;\">\n",
       "      <th></th>\n",
       "      <th>PLZ</th>\n",
       "      <th>Bad Cannstatt</th>\n",
       "      <th>Botnang</th>\n",
       "      <th>Feuerbach</th>\n",
       "      <th>Frauenkopf</th>\n",
       "      <th>Stuttgart-Mitte</th>\n",
       "      <th>Stuttgart-Nord</th>\n",
       "      <th>Stuttgart-Ost</th>\n",
       "      <th>Stuttgart-Süd</th>\n",
       "      <th>Stuttgart-West</th>\n",
       "      <th>Latitude</th>\n",
       "      <th>Longitude</th>\n",
       "      <th>Distance_m</th>\n",
       "    </tr>\n",
       "  </thead>\n",
       "  <tbody>\n",
       "    <tr>\n",
       "      <th>0</th>\n",
       "      <td>70173</td>\n",
       "      <td>0</td>\n",
       "      <td>0</td>\n",
       "      <td>0</td>\n",
       "      <td>0</td>\n",
       "      <td>1</td>\n",
       "      <td>0</td>\n",
       "      <td>0</td>\n",
       "      <td>0</td>\n",
       "      <td>0</td>\n",
       "      <td>48.777845</td>\n",
       "      <td>9.178425</td>\n",
       "      <td>607.0</td>\n",
       "    </tr>\n",
       "    <tr>\n",
       "      <th>1</th>\n",
       "      <td>70174</td>\n",
       "      <td>0</td>\n",
       "      <td>0</td>\n",
       "      <td>0</td>\n",
       "      <td>0</td>\n",
       "      <td>1</td>\n",
       "      <td>1</td>\n",
       "      <td>0</td>\n",
       "      <td>0</td>\n",
       "      <td>1</td>\n",
       "      <td>48.782793</td>\n",
       "      <td>9.169334</td>\n",
       "      <td>853.0</td>\n",
       "    </tr>\n",
       "    <tr>\n",
       "      <th>2</th>\n",
       "      <td>70176</td>\n",
       "      <td>0</td>\n",
       "      <td>0</td>\n",
       "      <td>0</td>\n",
       "      <td>0</td>\n",
       "      <td>1</td>\n",
       "      <td>0</td>\n",
       "      <td>0</td>\n",
       "      <td>0</td>\n",
       "      <td>1</td>\n",
       "      <td>48.777425</td>\n",
       "      <td>9.161045</td>\n",
       "      <td>853.0</td>\n",
       "    </tr>\n",
       "    <tr>\n",
       "      <th>3</th>\n",
       "      <td>70178</td>\n",
       "      <td>0</td>\n",
       "      <td>0</td>\n",
       "      <td>0</td>\n",
       "      <td>0</td>\n",
       "      <td>1</td>\n",
       "      <td>0</td>\n",
       "      <td>0</td>\n",
       "      <td>1</td>\n",
       "      <td>1</td>\n",
       "      <td>48.769172</td>\n",
       "      <td>9.167613</td>\n",
       "      <td>781.0</td>\n",
       "    </tr>\n",
       "    <tr>\n",
       "      <th>4</th>\n",
       "      <td>70180</td>\n",
       "      <td>0</td>\n",
       "      <td>0</td>\n",
       "      <td>0</td>\n",
       "      <td>0</td>\n",
       "      <td>1</td>\n",
       "      <td>0</td>\n",
       "      <td>0</td>\n",
       "      <td>1</td>\n",
       "      <td>0</td>\n",
       "      <td>48.764008</td>\n",
       "      <td>9.174807</td>\n",
       "      <td>781.0</td>\n",
       "    </tr>\n",
       "    <tr>\n",
       "      <th>5</th>\n",
       "      <td>70182</td>\n",
       "      <td>0</td>\n",
       "      <td>0</td>\n",
       "      <td>0</td>\n",
       "      <td>0</td>\n",
       "      <td>1</td>\n",
       "      <td>0</td>\n",
       "      <td>0</td>\n",
       "      <td>0</td>\n",
       "      <td>0</td>\n",
       "      <td>48.774373</td>\n",
       "      <td>9.184790</td>\n",
       "      <td>607.0</td>\n",
       "    </tr>\n",
       "    <tr>\n",
       "      <th>6</th>\n",
       "      <td>70184</td>\n",
       "      <td>0</td>\n",
       "      <td>0</td>\n",
       "      <td>0</td>\n",
       "      <td>1</td>\n",
       "      <td>1</td>\n",
       "      <td>0</td>\n",
       "      <td>1</td>\n",
       "      <td>1</td>\n",
       "      <td>0</td>\n",
       "      <td>48.770758</td>\n",
       "      <td>9.196369</td>\n",
       "      <td>941.0</td>\n",
       "    </tr>\n",
       "    <tr>\n",
       "      <th>7</th>\n",
       "      <td>70186</td>\n",
       "      <td>0</td>\n",
       "      <td>0</td>\n",
       "      <td>0</td>\n",
       "      <td>0</td>\n",
       "      <td>0</td>\n",
       "      <td>0</td>\n",
       "      <td>1</td>\n",
       "      <td>0</td>\n",
       "      <td>0</td>\n",
       "      <td>48.775961</td>\n",
       "      <td>9.207289</td>\n",
       "      <td>938.0</td>\n",
       "    </tr>\n",
       "    <tr>\n",
       "      <th>8</th>\n",
       "      <td>70188</td>\n",
       "      <td>0</td>\n",
       "      <td>0</td>\n",
       "      <td>0</td>\n",
       "      <td>0</td>\n",
       "      <td>1</td>\n",
       "      <td>0</td>\n",
       "      <td>1</td>\n",
       "      <td>0</td>\n",
       "      <td>0</td>\n",
       "      <td>48.784357</td>\n",
       "      <td>9.208548</td>\n",
       "      <td>719.0</td>\n",
       "    </tr>\n",
       "    <tr>\n",
       "      <th>9</th>\n",
       "      <td>70190</td>\n",
       "      <td>0</td>\n",
       "      <td>0</td>\n",
       "      <td>0</td>\n",
       "      <td>0</td>\n",
       "      <td>1</td>\n",
       "      <td>0</td>\n",
       "      <td>1</td>\n",
       "      <td>0</td>\n",
       "      <td>0</td>\n",
       "      <td>48.789468</td>\n",
       "      <td>9.202551</td>\n",
       "      <td>719.0</td>\n",
       "    </tr>\n",
       "    <tr>\n",
       "      <th>10</th>\n",
       "      <td>70191</td>\n",
       "      <td>1</td>\n",
       "      <td>0</td>\n",
       "      <td>0</td>\n",
       "      <td>0</td>\n",
       "      <td>0</td>\n",
       "      <td>1</td>\n",
       "      <td>0</td>\n",
       "      <td>0</td>\n",
       "      <td>0</td>\n",
       "      <td>48.798159</td>\n",
       "      <td>9.182542</td>\n",
       "      <td>1325.0</td>\n",
       "    </tr>\n",
       "    <tr>\n",
       "      <th>11</th>\n",
       "      <td>70192</td>\n",
       "      <td>0</td>\n",
       "      <td>0</td>\n",
       "      <td>1</td>\n",
       "      <td>0</td>\n",
       "      <td>0</td>\n",
       "      <td>1</td>\n",
       "      <td>0</td>\n",
       "      <td>0</td>\n",
       "      <td>0</td>\n",
       "      <td>48.795268</td>\n",
       "      <td>9.165040</td>\n",
       "      <td>1325.0</td>\n",
       "    </tr>\n",
       "    <tr>\n",
       "      <th>12</th>\n",
       "      <td>70193</td>\n",
       "      <td>0</td>\n",
       "      <td>0</td>\n",
       "      <td>0</td>\n",
       "      <td>0</td>\n",
       "      <td>0</td>\n",
       "      <td>1</td>\n",
       "      <td>0</td>\n",
       "      <td>0</td>\n",
       "      <td>1</td>\n",
       "      <td>48.779306</td>\n",
       "      <td>9.149028</td>\n",
       "      <td>908.0</td>\n",
       "    </tr>\n",
       "    <tr>\n",
       "      <th>13</th>\n",
       "      <td>70195</td>\n",
       "      <td>0</td>\n",
       "      <td>1</td>\n",
       "      <td>0</td>\n",
       "      <td>0</td>\n",
       "      <td>0</td>\n",
       "      <td>0</td>\n",
       "      <td>0</td>\n",
       "      <td>0</td>\n",
       "      <td>0</td>\n",
       "      <td>48.778211</td>\n",
       "      <td>9.125150</td>\n",
       "      <td>1759.0</td>\n",
       "    </tr>\n",
       "    <tr>\n",
       "      <th>14</th>\n",
       "      <td>70197</td>\n",
       "      <td>0</td>\n",
       "      <td>0</td>\n",
       "      <td>0</td>\n",
       "      <td>0</td>\n",
       "      <td>0</td>\n",
       "      <td>0</td>\n",
       "      <td>0</td>\n",
       "      <td>0</td>\n",
       "      <td>1</td>\n",
       "      <td>48.770778</td>\n",
       "      <td>9.149351</td>\n",
       "      <td>949.0</td>\n",
       "    </tr>\n",
       "    <tr>\n",
       "      <th>15</th>\n",
       "      <td>70199</td>\n",
       "      <td>0</td>\n",
       "      <td>0</td>\n",
       "      <td>0</td>\n",
       "      <td>0</td>\n",
       "      <td>0</td>\n",
       "      <td>0</td>\n",
       "      <td>0</td>\n",
       "      <td>1</td>\n",
       "      <td>0</td>\n",
       "      <td>48.759678</td>\n",
       "      <td>9.153591</td>\n",
       "      <td>1273.0</td>\n",
       "    </tr>\n",
       "  </tbody>\n",
       "</table>\n",
       "</div>"
      ],
      "text/plain": [
       "      PLZ  Bad Cannstatt  Botnang  Feuerbach  Frauenkopf  Stuttgart-Mitte  \\\n",
       "0   70173              0        0          0           0                1   \n",
       "1   70174              0        0          0           0                1   \n",
       "2   70176              0        0          0           0                1   \n",
       "3   70178              0        0          0           0                1   \n",
       "4   70180              0        0          0           0                1   \n",
       "5   70182              0        0          0           0                1   \n",
       "6   70184              0        0          0           1                1   \n",
       "7   70186              0        0          0           0                0   \n",
       "8   70188              0        0          0           0                1   \n",
       "9   70190              0        0          0           0                1   \n",
       "10  70191              1        0          0           0                0   \n",
       "11  70192              0        0          1           0                0   \n",
       "12  70193              0        0          0           0                0   \n",
       "13  70195              0        1          0           0                0   \n",
       "14  70197              0        0          0           0                0   \n",
       "15  70199              0        0          0           0                0   \n",
       "\n",
       "    Stuttgart-Nord  Stuttgart-Ost  Stuttgart-Süd  Stuttgart-West   Latitude  \\\n",
       "0                0              0              0               0  48.777845   \n",
       "1                1              0              0               1  48.782793   \n",
       "2                0              0              0               1  48.777425   \n",
       "3                0              0              1               1  48.769172   \n",
       "4                0              0              1               0  48.764008   \n",
       "5                0              0              0               0  48.774373   \n",
       "6                0              1              1               0  48.770758   \n",
       "7                0              1              0               0  48.775961   \n",
       "8                0              1              0               0  48.784357   \n",
       "9                0              1              0               0  48.789468   \n",
       "10               1              0              0               0  48.798159   \n",
       "11               1              0              0               0  48.795268   \n",
       "12               1              0              0               1  48.779306   \n",
       "13               0              0              0               0  48.778211   \n",
       "14               0              0              0               1  48.770778   \n",
       "15               0              0              1               0  48.759678   \n",
       "\n",
       "    Longitude  Distance_m  \n",
       "0    9.178425       607.0  \n",
       "1    9.169334       853.0  \n",
       "2    9.161045       853.0  \n",
       "3    9.167613       781.0  \n",
       "4    9.174807       781.0  \n",
       "5    9.184790       607.0  \n",
       "6    9.196369       941.0  \n",
       "7    9.207289       938.0  \n",
       "8    9.208548       719.0  \n",
       "9    9.202551       719.0  \n",
       "10   9.182542      1325.0  \n",
       "11   9.165040      1325.0  \n",
       "12   9.149028       908.0  \n",
       "13   9.125150      1759.0  \n",
       "14   9.149351       949.0  \n",
       "15   9.153591      1273.0  "
      ]
     },
     "execution_count": 29,
     "metadata": {},
     "output_type": "execute_result"
    }
   ],
   "source": [
    "df_str_input.drop(\"Source\", axis=1)"
   ]
  },
  {
   "cell_type": "markdown",
   "metadata": {},
   "source": [
    "## 2. Foursquare information on restaurants in ZIP-areas"
   ]
  },
  {
   "cell_type": "markdown",
   "metadata": {},
   "source": [
    "Foursquare credentials"
   ]
  },
  {
   "cell_type": "code",
   "execution_count": 30,
   "metadata": {},
   "outputs": [
    {
     "data": {
      "text/plain": [
       "Index(['Provider', 'Key', 'Value'], dtype='object')"
      ]
     },
     "execution_count": 30,
     "metadata": {},
     "output_type": "execute_result"
    }
   ],
   "source": [
    "credentials = pd.read_excel(\"../Credentials.xlsx\", header=0)\n",
    "credentials.columns"
   ]
  },
  {
   "cell_type": "code",
   "execution_count": 31,
   "metadata": {},
   "outputs": [],
   "source": [
    "provider = \"Foursquare\"\n",
    "cred_fsquare = credentials[credentials[\"Provider\"] == provider]\n",
    "\n",
    "CLIENT_ID = cred_fsquare[cred_fsquare[\"Key\"] == \"CLIENT_ID\"].values[0][2] # your Foursquare ID\n",
    "CLIENT_SECRET = cred_fsquare[cred_fsquare[\"Key\"] == \"CLIENT_SECRET\"].values[0][2] # your Foursquare Secret\n",
    "ACCESS_TOKEN = cred_fsquare[cred_fsquare[\"Key\"] == \"ACCESS_TOKEN\"].values[0][2] # your FourSquare Access Token\n",
    "VERSION = '20210101' # Foursquare API version"
   ]
  },
  {
   "cell_type": "markdown",
   "metadata": {},
   "source": [
    "### 2.1 Get list of restaurants from foursquare"
   ]
  },
  {
   "cell_type": "code",
   "execution_count": 32,
   "metadata": {},
   "outputs": [],
   "source": [
    "#Pull food-venues for each ZIP from Foursquare; using max. distance as radius\n",
    "\n",
    "def exploreFoodVenues(zip_code, zip_lat, zip_lng, radius):\n",
    "    # Explore Top100\n",
    "    LIMIT = 100\n",
    "    # Category ID for category \"FOOD\"\n",
    "    CAT_ID = \"4d4b7105d754a06374d81259\"\n",
    "    \n",
    "    venues_list = []\n",
    "\n",
    "    for code, lat, lng, r_m in zip(zip_code, zip_lat, zip_lng, radius):\n",
    "        # create the API request URL\n",
    "        ven_expl_url = 'https://api.foursquare.com/v2/venues/explore?&client_id={}&client_secret={}&v={}&ll={},{}&radius={}&limit={}&categoryId={}'.format(\n",
    "            CLIENT_ID, CLIENT_SECRET, VERSION, lat, lng, r_m, LIMIT, CAT_ID)\n",
    "\n",
    "        # make the GET request\n",
    "        ven_results = requests.get(ven_expl_url).json()[\"response\"]['groups'][0]['items']\n",
    "        \n",
    "        try:\n",
    "            # try to get ZIP-code\n",
    "            venues_list.append([(code, lat, lng, v['venue']['id'], v['venue']['name'], v['venue']['location']['lat'], \n",
    "                                 v['venue']['location']['lng'], v['venue']['location']['formattedAddress'][1], \n",
    "                                 v['venue']['categories'][0]['name']) for v in ven_results])\n",
    "        except:\n",
    "            # use dummy ZIP\n",
    "            venues_list.append([(code, lat, lng, v['venue']['id'], v['venue']['name'], v['venue']['location']['lat'], \n",
    "                                 v['venue']['location']['lng'], \"n/a\", \n",
    "                                 v['venue']['categories'][0]['name']) for v in ven_results])\n",
    "           \n",
    "    nearby_venues = pd.DataFrame([item for venue_list in venues_list for item in venue_list])\n",
    "    nearby_venues.columns = ['PLZ', 'Latitude', 'Longitude', 'Venue_id',\n",
    "                         'Venue_name', 'Venue_latitude', 'Venue_longitude', 'Venue_PLZ', 'Venue_category']\n",
    "    return(nearby_venues)"
   ]
  },
  {
   "cell_type": "code",
   "execution_count": 33,
   "metadata": {},
   "outputs": [
    {
     "name": "stdout",
     "output_type": "stream",
     "text": [
      "<class 'pandas.core.frame.DataFrame'>\n",
      "RangeIndex: 731 entries, 0 to 730\n",
      "Data columns (total 9 columns):\n",
      "PLZ                731 non-null int64\n",
      "Latitude           731 non-null float64\n",
      "Longitude          731 non-null float64\n",
      "Venue_id           731 non-null object\n",
      "Venue_name         731 non-null object\n",
      "Venue_latitude     731 non-null float64\n",
      "Venue_longitude    731 non-null float64\n",
      "Venue_PLZ          731 non-null object\n",
      "Venue_category     731 non-null object\n",
      "dtypes: float64(4), int64(1), object(4)\n",
      "memory usage: 51.5+ KB\n"
     ]
    }
   ],
   "source": [
    "df_venues = exploreFoodVenues(df_str_input[\"PLZ\"], df_str_input[\"Latitude\"], \n",
    "                              df_str_input[\"Longitude\"], df_str_input[\"Distance_m\"])\n",
    "df_venues.info()"
   ]
  },
  {
   "cell_type": "code",
   "execution_count": 34,
   "metadata": {},
   "outputs": [
    {
     "name": "stdout",
     "output_type": "stream",
     "text": [
      "<class 'pandas.core.frame.DataFrame'>\n",
      "RangeIndex: 465 entries, 0 to 464\n",
      "Data columns (total 7 columns):\n",
      "Venue_id           465 non-null object\n",
      "Venue_name         465 non-null object\n",
      "Venue_latitude     465 non-null float64\n",
      "Venue_longitude    465 non-null float64\n",
      "Venue_PLZ          465 non-null object\n",
      "Venue_category     465 non-null object\n",
      "Appearances        465 non-null int64\n",
      "dtypes: float64(2), int64(1), object(4)\n",
      "memory usage: 25.5+ KB\n"
     ]
    }
   ],
   "source": [
    "# List of unique Venue_IDs with no. of appearances in Explore-search\n",
    "df_venues_unique = df_venues.groupby(df_venues.columns.to_list()[3:9])[\"PLZ\"].count().to_frame().reset_index()\n",
    "df_venues_unique.rename(columns={\"PLZ\":\"Appearances\"}, inplace=True)\n",
    "df_venues_unique.info()"
   ]
  },
  {
   "cell_type": "markdown",
   "metadata": {},
   "source": [
    "### 2.2 Identify restaurant belonging to Top10-categories"
   ]
  },
  {
   "cell_type": "code",
   "execution_count": 35,
   "metadata": {},
   "outputs": [
    {
     "data": {
      "text/html": [
       "<div>\n",
       "<style scoped>\n",
       "    .dataframe tbody tr th:only-of-type {\n",
       "        vertical-align: middle;\n",
       "    }\n",
       "\n",
       "    .dataframe tbody tr th {\n",
       "        vertical-align: top;\n",
       "    }\n",
       "\n",
       "    .dataframe thead th {\n",
       "        text-align: right;\n",
       "    }\n",
       "</style>\n",
       "<table border=\"1\" class=\"dataframe\">\n",
       "  <thead>\n",
       "    <tr style=\"text-align: right;\">\n",
       "      <th></th>\n",
       "      <th>Venue_category</th>\n",
       "      <th>Appearances</th>\n",
       "    </tr>\n",
       "  </thead>\n",
       "  <tbody>\n",
       "    <tr>\n",
       "      <th>9</th>\n",
       "      <td>Café</td>\n",
       "      <td>54</td>\n",
       "    </tr>\n",
       "    <tr>\n",
       "      <th>29</th>\n",
       "      <td>Italian Restaurant</td>\n",
       "      <td>51</td>\n",
       "    </tr>\n",
       "    <tr>\n",
       "      <th>25</th>\n",
       "      <td>German Restaurant</td>\n",
       "      <td>49</td>\n",
       "    </tr>\n",
       "    <tr>\n",
       "      <th>4</th>\n",
       "      <td>Bakery</td>\n",
       "      <td>46</td>\n",
       "    </tr>\n",
       "    <tr>\n",
       "      <th>7</th>\n",
       "      <td>Burger Joint</td>\n",
       "      <td>13</td>\n",
       "    </tr>\n",
       "    <tr>\n",
       "      <th>2</th>\n",
       "      <td>Asian Restaurant</td>\n",
       "      <td>11</td>\n",
       "    </tr>\n",
       "    <tr>\n",
       "      <th>60</th>\n",
       "      <td>Turkish Restaurant</td>\n",
       "      <td>11</td>\n",
       "    </tr>\n",
       "    <tr>\n",
       "      <th>53</th>\n",
       "      <td>Sushi Restaurant</td>\n",
       "      <td>11</td>\n",
       "    </tr>\n",
       "    <tr>\n",
       "      <th>19</th>\n",
       "      <td>Fast Food Restaurant</td>\n",
       "      <td>11</td>\n",
       "    </tr>\n",
       "    <tr>\n",
       "      <th>40</th>\n",
       "      <td>Pizza Place</td>\n",
       "      <td>10</td>\n",
       "    </tr>\n",
       "  </tbody>\n",
       "</table>\n",
       "</div>"
      ],
      "text/plain": [
       "          Venue_category  Appearances\n",
       "9                   Café           54\n",
       "29    Italian Restaurant           51\n",
       "25     German Restaurant           49\n",
       "4                 Bakery           46\n",
       "7           Burger Joint           13\n",
       "2       Asian Restaurant           11\n",
       "60    Turkish Restaurant           11\n",
       "53      Sushi Restaurant           11\n",
       "19  Fast Food Restaurant           11\n",
       "40           Pizza Place           10"
      ]
     },
     "execution_count": 35,
     "metadata": {},
     "output_type": "execute_result"
    }
   ],
   "source": [
    "df_all_cat = df_venues_unique.groupby([\"Venue_category\"])[\"Venue_id\"].count().to_frame().reset_index().sort_values(\n",
    "    by=\"Venue_id\", ascending=False)\n",
    "df_all_cat.rename(columns={\"Venue_id\":\"Appearances\"}, inplace=True)\n",
    "\n",
    "# Remove category \"Restaurant\" because its meaningless\n",
    "index_restaurant = df_all_cat[df_all_cat[\"Venue_category\"] == \"Restaurant\"].index\n",
    "df_all_cat.drop(index_restaurant, axis=0, inplace=True)\n",
    "df_top10cat = df_all_cat.iloc[0:10, :]\n",
    "df_top10cat"
   ]
  },
  {
   "cell_type": "code",
   "execution_count": 36,
   "metadata": {},
   "outputs": [
    {
     "data": {
      "text/plain": [
       "['Café',\n",
       " 'Italian Restaurant',\n",
       " 'German Restaurant',\n",
       " 'Bakery',\n",
       " 'Burger Joint',\n",
       " 'Asian Restaurant',\n",
       " 'Turkish Restaurant',\n",
       " 'Sushi Restaurant',\n",
       " 'Fast Food Restaurant',\n",
       " 'Pizza Place']"
      ]
     },
     "execution_count": 36,
     "metadata": {},
     "output_type": "execute_result"
    }
   ],
   "source": [
    "list_top10 = df_top10cat[\"Venue_category\"].to_list()\n",
    "list_top10"
   ]
  },
  {
   "cell_type": "code",
   "execution_count": 37,
   "metadata": {},
   "outputs": [
    {
     "name": "stdout",
     "output_type": "stream",
     "text": [
      "<class 'pandas.core.frame.DataFrame'>\n",
      "Int64Index: 267 entries, 0 to 464\n",
      "Data columns (total 7 columns):\n",
      "Venue_id           267 non-null object\n",
      "Venue_name         267 non-null object\n",
      "Venue_latitude     267 non-null float64\n",
      "Venue_longitude    267 non-null float64\n",
      "Venue_PLZ          267 non-null object\n",
      "Venue_category     267 non-null object\n",
      "Appearances        267 non-null int64\n",
      "dtypes: float64(2), int64(1), object(4)\n",
      "memory usage: 16.7+ KB\n"
     ]
    }
   ],
   "source": [
    "# Venues belonging to top10 categories\n",
    "bool_series= df_venues_unique[\"Venue_category\"].isin(list_top10)\n",
    "df_venues_top = df_venues_unique[bool_series]\n",
    "df_venues_top.info()"
   ]
  },
  {
   "cell_type": "markdown",
   "metadata": {},
   "source": [
    "### 2.3 Get ratings for selected venues from Foursquare"
   ]
  },
  {
   "cell_type": "code",
   "execution_count": 38,
   "metadata": {},
   "outputs": [],
   "source": [
    "#Pull venue-ratings\n",
    "\n",
    "def pullVenueInfos(list_venues):\n",
    "    \n",
    "    info_list = []\n",
    "\n",
    "    for venue_id in list_venues:\n",
    "        # create the API request URL\n",
    "        ven_info_url = 'https://api.foursquare.com/v2/venues/{}?&client_id={}&client_secret={}&v={}'.format(\n",
    "            venue_id, CLIENT_ID, CLIENT_SECRET, VERSION)\n",
    "\n",
    "        # make the GET request\n",
    "        ven_info = requests.get(ven_info_url).json()['response']['venue']\n",
    "        \n",
    "        try:\n",
    "            # try to get rating\n",
    "            info_list.append([venue_id, ven_info['rating']])\n",
    "        except:\n",
    "            # use dummy rating\n",
    "            info_list.append([venue_id, \"n/a\"])\n",
    "           \n",
    "    return_ven_info = pd.DataFrame(info_list, columns=[\"Venue_id\", \"Rating\"])\n",
    "\n",
    "    return(return_ven_info)"
   ]
  },
  {
   "cell_type": "code",
   "execution_count": 39,
   "metadata": {},
   "outputs": [
    {
     "data": {
      "text/html": [
       "<div>\n",
       "<style scoped>\n",
       "    .dataframe tbody tr th:only-of-type {\n",
       "        vertical-align: middle;\n",
       "    }\n",
       "\n",
       "    .dataframe tbody tr th {\n",
       "        vertical-align: top;\n",
       "    }\n",
       "\n",
       "    .dataframe thead th {\n",
       "        text-align: right;\n",
       "    }\n",
       "</style>\n",
       "<table border=\"1\" class=\"dataframe\">\n",
       "  <thead>\n",
       "    <tr style=\"text-align: right;\">\n",
       "      <th></th>\n",
       "      <th>Venue_id</th>\n",
       "      <th>Rating</th>\n",
       "    </tr>\n",
       "  </thead>\n",
       "  <tbody>\n",
       "    <tr>\n",
       "      <th>0</th>\n",
       "      <td>4b15579bf964a52041ab23e3</td>\n",
       "      <td>NaN</td>\n",
       "    </tr>\n",
       "    <tr>\n",
       "      <th>1</th>\n",
       "      <td>4b1ce1eff964a520410a24e3</td>\n",
       "      <td>8.6</td>\n",
       "    </tr>\n",
       "    <tr>\n",
       "      <th>2</th>\n",
       "      <td>4b44c3f8f964a52088fb25e3</td>\n",
       "      <td>6.9</td>\n",
       "    </tr>\n",
       "    <tr>\n",
       "      <th>3</th>\n",
       "      <td>4b4823d9f964a520f64826e3</td>\n",
       "      <td>6.6</td>\n",
       "    </tr>\n",
       "    <tr>\n",
       "      <th>4</th>\n",
       "      <td>4b48a6a8f964a520a35126e3</td>\n",
       "      <td>7.0</td>\n",
       "    </tr>\n",
       "  </tbody>\n",
       "</table>\n",
       "</div>"
      ],
      "text/plain": [
       "                   Venue_id  Rating\n",
       "0  4b15579bf964a52041ab23e3     NaN\n",
       "1  4b1ce1eff964a520410a24e3     8.6\n",
       "2  4b44c3f8f964a52088fb25e3     6.9\n",
       "3  4b4823d9f964a520f64826e3     6.6\n",
       "4  4b48a6a8f964a520a35126e3     7.0"
      ]
     },
     "execution_count": 39,
     "metadata": {},
     "output_type": "execute_result"
    }
   ],
   "source": [
    "df_venue_ratings = pd.read_excel(\"EXPORT-venue-ratings.xlsx\", header=0)\n",
    "df_venue_ratings.drop(\"Unnamed: 0\", axis=1, inplace=True)\n",
    "df_venue_ratings.head()"
   ]
  },
  {
   "cell_type": "code",
   "execution_count": 40,
   "metadata": {},
   "outputs": [
    {
     "data": {
      "text/plain": [
       "(267, 2)"
      ]
     },
     "execution_count": 40,
     "metadata": {},
     "output_type": "execute_result"
    }
   ],
   "source": [
    "df_venue_ratings.shape"
   ]
  },
  {
   "cell_type": "code",
   "execution_count": 41,
   "metadata": {},
   "outputs": [],
   "source": [
    "# Make a backup of ratings\n",
    "df_venue_ratings.to_excel(\"EXPORT-venue-ratings.xlsx\")"
   ]
  },
  {
   "cell_type": "code",
   "execution_count": 42,
   "metadata": {},
   "outputs": [
    {
     "name": "stdout",
     "output_type": "stream",
     "text": [
      "<class 'pandas.core.frame.DataFrame'>\n",
      "Int64Index: 305 entries, 0 to 304\n",
      "Data columns (total 8 columns):\n",
      "Venue_id           305 non-null object\n",
      "Venue_name         305 non-null object\n",
      "Venue_latitude     305 non-null float64\n",
      "Venue_longitude    305 non-null float64\n",
      "Venue_PLZ          305 non-null object\n",
      "Venue_category     305 non-null object\n",
      "Appearances        305 non-null int64\n",
      "Rating             212 non-null float64\n",
      "dtypes: float64(3), int64(1), object(4)\n",
      "memory usage: 21.4+ KB\n"
     ]
    }
   ],
   "source": [
    "# Merge ratings with other information\n",
    "df_venues_con = pd.merge(df_venues_top, df_venue_ratings, how=\"left\", on=\"Venue_id\")\n",
    "df_venues_con.info()"
   ]
  },
  {
   "cell_type": "code",
   "execution_count": 43,
   "metadata": {},
   "outputs": [
    {
     "name": "stdout",
     "output_type": "stream",
     "text": [
      "<class 'pandas.core.frame.DataFrame'>\n",
      "Int64Index: 212 entries, 1 to 300\n",
      "Data columns (total 8 columns):\n",
      "Venue_id           212 non-null object\n",
      "Venue_name         212 non-null object\n",
      "Venue_latitude     212 non-null float64\n",
      "Venue_longitude    212 non-null float64\n",
      "Venue_PLZ          212 non-null object\n",
      "Venue_category     212 non-null object\n",
      "Appearances        212 non-null int64\n",
      "Rating             212 non-null float64\n",
      "dtypes: float64(3), int64(1), object(4)\n",
      "memory usage: 14.9+ KB\n"
     ]
    },
    {
     "name": "stderr",
     "output_type": "stream",
     "text": [
      "C:\\Users\\czump\\Anaconda3\\lib\\site-packages\\pandas\\core\\ops.py:1649: FutureWarning: elementwise comparison failed; returning scalar instead, but in the future will perform elementwise comparison\n",
      "  result = method(y)\n"
     ]
    }
   ],
   "source": [
    "# Drop venues with rating = \"n/a\"\n",
    "index_na = df_venues_con[df_venues_con[\"Rating\"] == \"n/a\"].index\n",
    "df_venues_con.drop(index_na, axis=0, inplace=True)\n",
    "df_venues_con.dropna(how=\"any\", axis=0, inplace=True)\n",
    "df_venues_con.info()"
   ]
  },
  {
   "cell_type": "markdown",
   "metadata": {},
   "source": [
    "### 2.4 Final preparation of input data \n",
    "Taking venue information and information on adjacent hoods"
   ]
  },
  {
   "cell_type": "code",
   "execution_count": 44,
   "metadata": {},
   "outputs": [],
   "source": [
    "df_venues_cut = df_venues.loc[:, [\"PLZ\", \"Venue_id\"]]"
   ]
  },
  {
   "cell_type": "code",
   "execution_count": 45,
   "metadata": {},
   "outputs": [
    {
     "name": "stdout",
     "output_type": "stream",
     "text": [
      "<class 'pandas.core.frame.DataFrame'>\n",
      "Int64Index: 409 entries, 0 to 408\n",
      "Data columns (total 9 columns):\n",
      "Venue_id           409 non-null object\n",
      "Venue_name         409 non-null object\n",
      "Venue_latitude     409 non-null float64\n",
      "Venue_longitude    409 non-null float64\n",
      "Venue_PLZ          409 non-null object\n",
      "Venue_category     409 non-null object\n",
      "Appearances        409 non-null int64\n",
      "Rating             409 non-null float64\n",
      "Adj_zip_codes      409 non-null int64\n",
      "dtypes: float64(3), int64(2), object(4)\n",
      "memory usage: 32.0+ KB\n"
     ]
    }
   ],
   "source": [
    "df_str_venues = pd.merge(df_venues_con, df_venues_cut, how=\"left\", on=\"Venue_id\")\n",
    "df_str_venues.rename(columns={\"PLZ\":\"Adj_zip_codes\"}, inplace=True)\n",
    "df_str_venues.info()"
   ]
  },
  {
   "cell_type": "code",
   "execution_count": 46,
   "metadata": {},
   "outputs": [
    {
     "data": {
      "text/html": [
       "<div>\n",
       "<style scoped>\n",
       "    .dataframe tbody tr th:only-of-type {\n",
       "        vertical-align: middle;\n",
       "    }\n",
       "\n",
       "    .dataframe tbody tr th {\n",
       "        vertical-align: top;\n",
       "    }\n",
       "\n",
       "    .dataframe thead th {\n",
       "        text-align: right;\n",
       "    }\n",
       "</style>\n",
       "<table border=\"1\" class=\"dataframe\">\n",
       "  <thead>\n",
       "    <tr style=\"text-align: right;\">\n",
       "      <th></th>\n",
       "      <th>Adj_zip_codes</th>\n",
       "      <th>Venue_category</th>\n",
       "      <th>Venue_id</th>\n",
       "    </tr>\n",
       "  </thead>\n",
       "  <tbody>\n",
       "    <tr>\n",
       "      <th>0</th>\n",
       "      <td>70173</td>\n",
       "      <td>Asian Restaurant</td>\n",
       "      <td>4</td>\n",
       "    </tr>\n",
       "    <tr>\n",
       "      <th>1</th>\n",
       "      <td>70173</td>\n",
       "      <td>Burger Joint</td>\n",
       "      <td>2</td>\n",
       "    </tr>\n",
       "    <tr>\n",
       "      <th>2</th>\n",
       "      <td>70173</td>\n",
       "      <td>Café</td>\n",
       "      <td>15</td>\n",
       "    </tr>\n",
       "    <tr>\n",
       "      <th>3</th>\n",
       "      <td>70173</td>\n",
       "      <td>Fast Food Restaurant</td>\n",
       "      <td>1</td>\n",
       "    </tr>\n",
       "    <tr>\n",
       "      <th>4</th>\n",
       "      <td>70173</td>\n",
       "      <td>German Restaurant</td>\n",
       "      <td>15</td>\n",
       "    </tr>\n",
       "  </tbody>\n",
       "</table>\n",
       "</div>"
      ],
      "text/plain": [
       "   Adj_zip_codes        Venue_category  Venue_id\n",
       "0          70173      Asian Restaurant         4\n",
       "1          70173          Burger Joint         2\n",
       "2          70173                  Café        15\n",
       "3          70173  Fast Food Restaurant         1\n",
       "4          70173     German Restaurant        15"
      ]
     },
     "execution_count": 46,
     "metadata": {},
     "output_type": "execute_result"
    }
   ],
   "source": [
    "df_venues_per_zip = df_str_venues.groupby([\"Adj_zip_codes\", \"Venue_category\"])[\"Venue_id\"].count().reset_index()\n",
    "df_venues_per_zip.sort_values(by=\"Adj_zip_codes\", inplace=True)\n",
    "df_venues_per_zip.head()"
   ]
  },
  {
   "cell_type": "code",
   "execution_count": 78,
   "metadata": {},
   "outputs": [
    {
     "data": {
      "image/png": "[encoded data removed]",
      "text/plain": [
       "<Figure size 1080x1440 with 10 Axes>"
      ]
     },
     "metadata": {
      "needs_background": "light"
     },
     "output_type": "display_data"
    }
   ],
   "source": [
    "import numpy as np\n",
    "import matplotlib.pyplot as plt\n",
    "\n",
    "# List of all categories\n",
    "categories = df_venues_per_zip[\"Venue_category\"].unique()\n",
    "\n",
    "# Category 0\n",
    "cat0 = categories[0]\n",
    "df_cat0 = df_venues_per_zip[df_venues_per_zip[\"Venue_category\"] == categories[0]]\n",
    "x_bins_cat0 = df_cat0[\"Adj_zip_codes\"].astype(str).tolist()\n",
    "series_cat0 = df_cat0[\"Venue_id\"].tolist()\n",
    "\n",
    "# Category 1\n",
    "cat1 = categories[1]\n",
    "df_cat1 = df_venues_per_zip[df_venues_per_zip[\"Venue_category\"] == categories[1]]\n",
    "x_bins_cat1 = df_cat1[\"Adj_zip_codes\"].astype(str).tolist()\n",
    "series_cat1 = df_cat1[\"Venue_id\"].tolist()\n",
    "\n",
    "# Category 2\n",
    "cat2 = categories[2]\n",
    "df_cat2 = df_venues_per_zip[df_venues_per_zip[\"Venue_category\"] == categories[2]]\n",
    "x_bins_cat2 = df_cat2[\"Adj_zip_codes\"].astype(str).tolist()\n",
    "series_cat2 = df_cat2[\"Venue_id\"].tolist()\n",
    "\n",
    "# Category 3\n",
    "cat3 = categories[3]\n",
    "df_cat3 = df_venues_per_zip[df_venues_per_zip[\"Venue_category\"] == categories[3]]\n",
    "x_bins_cat3 = df_cat3[\"Adj_zip_codes\"].astype(str).tolist()\n",
    "series_cat3 = df_cat3[\"Venue_id\"].tolist()\n",
    "\n",
    "# Category 4\n",
    "cat4 = categories[4]\n",
    "df_cat4 = df_venues_per_zip[df_venues_per_zip[\"Venue_category\"] == categories[4]]\n",
    "x_bins_cat4 = df_cat4[\"Adj_zip_codes\"].astype(str).tolist()\n",
    "series_cat4 = df_cat4[\"Venue_id\"].tolist()\n",
    "\n",
    "# Category 5\n",
    "cat5 = categories[5]\n",
    "df_cat5 = df_venues_per_zip[df_venues_per_zip[\"Venue_category\"] == categories[5]]\n",
    "x_bins_cat5 = df_cat5[\"Adj_zip_codes\"].astype(str).tolist()\n",
    "series_cat5 = df_cat5[\"Venue_id\"].tolist()\n",
    "\n",
    "# Category 6\n",
    "cat6 = categories[6]\n",
    "df_cat6 = df_venues_per_zip[df_venues_per_zip[\"Venue_category\"] == categories[6]]\n",
    "x_bins_cat6 = df_cat6[\"Adj_zip_codes\"].astype(str).tolist()\n",
    "series_cat6 = df_cat6[\"Venue_id\"].tolist()\n",
    "\n",
    "# Category 7\n",
    "cat7 = categories[7]\n",
    "df_cat7 = df_venues_per_zip[df_venues_per_zip[\"Venue_category\"] == categories[7]]\n",
    "x_bins_cat7 = df_cat7[\"Adj_zip_codes\"].astype(str).tolist()\n",
    "series_cat7 = df_cat7[\"Venue_id\"].tolist()\n",
    "\n",
    "# Category 8\n",
    "cat8 = categories[8]\n",
    "df_cat8 = df_venues_per_zip[df_venues_per_zip[\"Venue_category\"] == categories[8]]\n",
    "x_bins_cat8 = df_cat8[\"Adj_zip_codes\"].astype(str).tolist()\n",
    "series_cat8 = df_cat8[\"Venue_id\"].tolist()\n",
    "\n",
    "# Category 9\n",
    "cat9 = categories[9]\n",
    "df_cat9 = df_venues_per_zip[df_venues_per_zip[\"Venue_category\"] == categories[9]]\n",
    "x_bins_cat9 = df_cat9[\"Adj_zip_codes\"].astype(str).tolist()\n",
    "series_cat9 = df_cat9[\"Venue_id\"].tolist()\n",
    "\n",
    "fig, ax = plt.subplots(5, 2, figsize=(15,20))\n",
    "fig.suptitle(\"Number of restaurant for each category per ZIP-code\", fontsize=14)\n",
    "\n",
    "ax[0][0].bar(x_bins_cat0, series_cat0, color='b', width=0.5)\n",
    "ax[0][0].set_title(str(cat0))\n",
    "\n",
    "ax[0][1].bar(x_bins_cat1, series_cat1, color='b', width=0.5)\n",
    "ax[0][1].set_title(str(cat1))\n",
    "\n",
    "ax[1][0].bar(x_bins_cat2, series_cat2, color='b', width=0.5)\n",
    "ax[1][0].set_title(str(cat2))\n",
    "\n",
    "ax[1][1].bar(x_bins_cat3, series_cat3, color='b', width=0.5)\n",
    "ax[1][1].set_title(str(cat3))\n",
    "\n",
    "ax[2][0].bar(x_bins_cat4, series_cat4, color='b', width=0.5)\n",
    "ax[2][0].set_title(str(cat4))\n",
    "\n",
    "ax[2][1].bar(x_bins_cat5, series_cat5, color='b', width=0.5)\n",
    "ax[2][1].set_title(str(cat5))\n",
    "\n",
    "ax[3][0].bar(x_bins_cat6, series_cat6, color='b', width=0.5)\n",
    "ax[3][0].set_title(str(cat6))\n",
    "\n",
    "ax[3][1].bar(x_bins_cat7, series_cat7, color='b', width=0.5)\n",
    "ax[3][1].set_title(str(cat7))\n",
    "\n",
    "ax[4][0].bar(x_bins_cat8, series_cat8, color='b', width=0.5)\n",
    "ax[4][0].set_title(str(cat8))\n",
    "\n",
    "ax[4][1].bar(x_bins_cat9, series_cat9, color='b', width=0.5)\n",
    "ax[4][1].set_title(str(cat9))\n",
    "\n",
    "plt.show()"
   ]
  },
  {
   "cell_type": "code",
   "execution_count": 48,
   "metadata": {},
   "outputs": [
    {
     "name": "stdout",
     "output_type": "stream",
     "text": [
      "<class 'pandas.core.frame.DataFrame'>\n",
      "Int64Index: 409 entries, 0 to 408\n",
      "Data columns (total 16 columns):\n",
      "70173    409 non-null uint8\n",
      "70174    409 non-null uint8\n",
      "70176    409 non-null uint8\n",
      "70178    409 non-null uint8\n",
      "70180    409 non-null uint8\n",
      "70182    409 non-null uint8\n",
      "70184    409 non-null uint8\n",
      "70186    409 non-null uint8\n",
      "70188    409 non-null uint8\n",
      "70190    409 non-null uint8\n",
      "70191    409 non-null uint8\n",
      "70192    409 non-null uint8\n",
      "70193    409 non-null uint8\n",
      "70195    409 non-null uint8\n",
      "70197    409 non-null uint8\n",
      "70199    409 non-null uint8\n",
      "dtypes: uint8(16)\n",
      "memory usage: 9.6 KB\n"
     ]
    }
   ],
   "source": [
    "# One hot encoding of adj_zip_codes\n",
    "onehot_zip_codes = pd.get_dummies(df_str_venues[\"Adj_zip_codes\"])\n",
    "onehot_zip_codes.info()"
   ]
  },
  {
   "cell_type": "code",
   "execution_count": 49,
   "metadata": {},
   "outputs": [
    {
     "data": {
      "text/plain": [
       "(409, 16)"
      ]
     },
     "execution_count": 49,
     "metadata": {},
     "output_type": "execute_result"
    }
   ],
   "source": [
    "onehot_zip_codes.shape"
   ]
  },
  {
   "cell_type": "code",
   "execution_count": 50,
   "metadata": {},
   "outputs": [
    {
     "name": "stdout",
     "output_type": "stream",
     "text": [
      "<class 'pandas.core.frame.DataFrame'>\n",
      "Int64Index: 409 entries, 0 to 408\n",
      "Data columns (total 25 columns):\n",
      "Venue_id           409 non-null object\n",
      "Venue_name         409 non-null object\n",
      "Venue_latitude     409 non-null float64\n",
      "Venue_longitude    409 non-null float64\n",
      "Venue_PLZ          409 non-null object\n",
      "Venue_category     409 non-null object\n",
      "Appearances        409 non-null int64\n",
      "Rating             409 non-null float64\n",
      "Adj_zip_codes      409 non-null int64\n",
      "70173              409 non-null uint8\n",
      "70174              409 non-null uint8\n",
      "70176              409 non-null uint8\n",
      "70178              409 non-null uint8\n",
      "70180              409 non-null uint8\n",
      "70182              409 non-null uint8\n",
      "70184              409 non-null uint8\n",
      "70186              409 non-null uint8\n",
      "70188              409 non-null uint8\n",
      "70190              409 non-null uint8\n",
      "70191              409 non-null uint8\n",
      "70192              409 non-null uint8\n",
      "70193              409 non-null uint8\n",
      "70195              409 non-null uint8\n",
      "70197              409 non-null uint8\n",
      "70199              409 non-null uint8\n",
      "dtypes: float64(3), int64(2), object(4), uint8(16)\n",
      "memory usage: 58.3+ KB\n"
     ]
    }
   ],
   "source": [
    "df_str_venues_oh = df_str_venues.join(onehot_zip_codes, how=\"left\")\n",
    "df_str_venues_oh.info()"
   ]
  },
  {
   "cell_type": "code",
   "execution_count": 51,
   "metadata": {},
   "outputs": [
    {
     "data": {
      "text/html": [
       "<div>\n",
       "<style scoped>\n",
       "    .dataframe tbody tr th:only-of-type {\n",
       "        vertical-align: middle;\n",
       "    }\n",
       "\n",
       "    .dataframe tbody tr th {\n",
       "        vertical-align: top;\n",
       "    }\n",
       "\n",
       "    .dataframe thead th {\n",
       "        text-align: right;\n",
       "    }\n",
       "</style>\n",
       "<table border=\"1\" class=\"dataframe\">\n",
       "  <thead>\n",
       "    <tr style=\"text-align: right;\">\n",
       "      <th></th>\n",
       "      <th>Venue_latitude</th>\n",
       "      <th>Venue_longitude</th>\n",
       "      <th>Appearances</th>\n",
       "      <th>Rating</th>\n",
       "      <th>Adj_zip_codes</th>\n",
       "      <th>70173</th>\n",
       "      <th>70174</th>\n",
       "      <th>70176</th>\n",
       "      <th>70178</th>\n",
       "      <th>70180</th>\n",
       "      <th>...</th>\n",
       "      <th>70184</th>\n",
       "      <th>70186</th>\n",
       "      <th>70188</th>\n",
       "      <th>70190</th>\n",
       "      <th>70191</th>\n",
       "      <th>70192</th>\n",
       "      <th>70193</th>\n",
       "      <th>70195</th>\n",
       "      <th>70197</th>\n",
       "      <th>70199</th>\n",
       "    </tr>\n",
       "  </thead>\n",
       "  <tbody>\n",
       "    <tr>\n",
       "      <th>count</th>\n",
       "      <td>409.000000</td>\n",
       "      <td>409.000000</td>\n",
       "      <td>409.000000</td>\n",
       "      <td>409.000000</td>\n",
       "      <td>409.000000</td>\n",
       "      <td>409.000000</td>\n",
       "      <td>409.000000</td>\n",
       "      <td>409.000000</td>\n",
       "      <td>409.000000</td>\n",
       "      <td>409.000000</td>\n",
       "      <td>...</td>\n",
       "      <td>409.000000</td>\n",
       "      <td>409.000000</td>\n",
       "      <td>409.000000</td>\n",
       "      <td>409.000000</td>\n",
       "      <td>409.000000</td>\n",
       "      <td>409.000000</td>\n",
       "      <td>409.000000</td>\n",
       "      <td>409.000000</td>\n",
       "      <td>409.000000</td>\n",
       "      <td>409.000000</td>\n",
       "    </tr>\n",
       "    <tr>\n",
       "      <th>mean</th>\n",
       "      <td>48.775125</td>\n",
       "      <td>9.168861</td>\n",
       "      <td>1.728606</td>\n",
       "      <td>7.216870</td>\n",
       "      <td>70182.674817</td>\n",
       "      <td>0.134474</td>\n",
       "      <td>0.097800</td>\n",
       "      <td>0.158924</td>\n",
       "      <td>0.110024</td>\n",
       "      <td>0.058680</td>\n",
       "      <td>...</td>\n",
       "      <td>0.012225</td>\n",
       "      <td>0.009780</td>\n",
       "      <td>0.014670</td>\n",
       "      <td>0.019560</td>\n",
       "      <td>0.026895</td>\n",
       "      <td>0.009780</td>\n",
       "      <td>0.075795</td>\n",
       "      <td>0.004890</td>\n",
       "      <td>0.117359</td>\n",
       "      <td>0.051345</td>\n",
       "    </tr>\n",
       "    <tr>\n",
       "      <th>std</th>\n",
       "      <td>0.006479</td>\n",
       "      <td>0.013272</td>\n",
       "      <td>0.562024</td>\n",
       "      <td>0.696338</td>\n",
       "      <td>8.999694</td>\n",
       "      <td>0.341579</td>\n",
       "      <td>0.297407</td>\n",
       "      <td>0.366053</td>\n",
       "      <td>0.313303</td>\n",
       "      <td>0.235312</td>\n",
       "      <td>...</td>\n",
       "      <td>0.110023</td>\n",
       "      <td>0.098529</td>\n",
       "      <td>0.120375</td>\n",
       "      <td>0.138652</td>\n",
       "      <td>0.161974</td>\n",
       "      <td>0.098529</td>\n",
       "      <td>0.264993</td>\n",
       "      <td>0.069843</td>\n",
       "      <td>0.322242</td>\n",
       "      <td>0.220970</td>\n",
       "    </tr>\n",
       "    <tr>\n",
       "      <th>min</th>\n",
       "      <td>48.760014</td>\n",
       "      <td>9.136989</td>\n",
       "      <td>1.000000</td>\n",
       "      <td>4.800000</td>\n",
       "      <td>70173.000000</td>\n",
       "      <td>0.000000</td>\n",
       "      <td>0.000000</td>\n",
       "      <td>0.000000</td>\n",
       "      <td>0.000000</td>\n",
       "      <td>0.000000</td>\n",
       "      <td>...</td>\n",
       "      <td>0.000000</td>\n",
       "      <td>0.000000</td>\n",
       "      <td>0.000000</td>\n",
       "      <td>0.000000</td>\n",
       "      <td>0.000000</td>\n",
       "      <td>0.000000</td>\n",
       "      <td>0.000000</td>\n",
       "      <td>0.000000</td>\n",
       "      <td>0.000000</td>\n",
       "      <td>0.000000</td>\n",
       "    </tr>\n",
       "    <tr>\n",
       "      <th>25%</th>\n",
       "      <td>48.771246</td>\n",
       "      <td>9.156801</td>\n",
       "      <td>1.000000</td>\n",
       "      <td>6.800000</td>\n",
       "      <td>70176.000000</td>\n",
       "      <td>0.000000</td>\n",
       "      <td>0.000000</td>\n",
       "      <td>0.000000</td>\n",
       "      <td>0.000000</td>\n",
       "      <td>0.000000</td>\n",
       "      <td>...</td>\n",
       "      <td>0.000000</td>\n",
       "      <td>0.000000</td>\n",
       "      <td>0.000000</td>\n",
       "      <td>0.000000</td>\n",
       "      <td>0.000000</td>\n",
       "      <td>0.000000</td>\n",
       "      <td>0.000000</td>\n",
       "      <td>0.000000</td>\n",
       "      <td>0.000000</td>\n",
       "      <td>0.000000</td>\n",
       "    </tr>\n",
       "    <tr>\n",
       "      <th>50%</th>\n",
       "      <td>48.774375</td>\n",
       "      <td>9.168917</td>\n",
       "      <td>2.000000</td>\n",
       "      <td>7.200000</td>\n",
       "      <td>70178.000000</td>\n",
       "      <td>0.000000</td>\n",
       "      <td>0.000000</td>\n",
       "      <td>0.000000</td>\n",
       "      <td>0.000000</td>\n",
       "      <td>0.000000</td>\n",
       "      <td>...</td>\n",
       "      <td>0.000000</td>\n",
       "      <td>0.000000</td>\n",
       "      <td>0.000000</td>\n",
       "      <td>0.000000</td>\n",
       "      <td>0.000000</td>\n",
       "      <td>0.000000</td>\n",
       "      <td>0.000000</td>\n",
       "      <td>0.000000</td>\n",
       "      <td>0.000000</td>\n",
       "      <td>0.000000</td>\n",
       "    </tr>\n",
       "    <tr>\n",
       "      <th>75%</th>\n",
       "      <td>48.777783</td>\n",
       "      <td>9.177596</td>\n",
       "      <td>2.000000</td>\n",
       "      <td>7.700000</td>\n",
       "      <td>70192.000000</td>\n",
       "      <td>0.000000</td>\n",
       "      <td>0.000000</td>\n",
       "      <td>0.000000</td>\n",
       "      <td>0.000000</td>\n",
       "      <td>0.000000</td>\n",
       "      <td>...</td>\n",
       "      <td>0.000000</td>\n",
       "      <td>0.000000</td>\n",
       "      <td>0.000000</td>\n",
       "      <td>0.000000</td>\n",
       "      <td>0.000000</td>\n",
       "      <td>0.000000</td>\n",
       "      <td>0.000000</td>\n",
       "      <td>0.000000</td>\n",
       "      <td>0.000000</td>\n",
       "      <td>0.000000</td>\n",
       "    </tr>\n",
       "    <tr>\n",
       "      <th>max</th>\n",
       "      <td>48.805550</td>\n",
       "      <td>9.214821</td>\n",
       "      <td>3.000000</td>\n",
       "      <td>8.900000</td>\n",
       "      <td>70199.000000</td>\n",
       "      <td>1.000000</td>\n",
       "      <td>1.000000</td>\n",
       "      <td>1.000000</td>\n",
       "      <td>1.000000</td>\n",
       "      <td>1.000000</td>\n",
       "      <td>...</td>\n",
       "      <td>1.000000</td>\n",
       "      <td>1.000000</td>\n",
       "      <td>1.000000</td>\n",
       "      <td>1.000000</td>\n",
       "      <td>1.000000</td>\n",
       "      <td>1.000000</td>\n",
       "      <td>1.000000</td>\n",
       "      <td>1.000000</td>\n",
       "      <td>1.000000</td>\n",
       "      <td>1.000000</td>\n",
       "    </tr>\n",
       "  </tbody>\n",
       "</table>\n",
       "<p>8 rows × 21 columns</p>\n",
       "</div>"
      ],
      "text/plain": [
       "       Venue_latitude  Venue_longitude  Appearances      Rating  \\\n",
       "count      409.000000       409.000000   409.000000  409.000000   \n",
       "mean        48.775125         9.168861     1.728606    7.216870   \n",
       "std          0.006479         0.013272     0.562024    0.696338   \n",
       "min         48.760014         9.136989     1.000000    4.800000   \n",
       "25%         48.771246         9.156801     1.000000    6.800000   \n",
       "50%         48.774375         9.168917     2.000000    7.200000   \n",
       "75%         48.777783         9.177596     2.000000    7.700000   \n",
       "max         48.805550         9.214821     3.000000    8.900000   \n",
       "\n",
       "       Adj_zip_codes       70173       70174       70176       70178  \\\n",
       "count     409.000000  409.000000  409.000000  409.000000  409.000000   \n",
       "mean    70182.674817    0.134474    0.097800    0.158924    0.110024   \n",
       "std         8.999694    0.341579    0.297407    0.366053    0.313303   \n",
       "min     70173.000000    0.000000    0.000000    0.000000    0.000000   \n",
       "25%     70176.000000    0.000000    0.000000    0.000000    0.000000   \n",
       "50%     70178.000000    0.000000    0.000000    0.000000    0.000000   \n",
       "75%     70192.000000    0.000000    0.000000    0.000000    0.000000   \n",
       "max     70199.000000    1.000000    1.000000    1.000000    1.000000   \n",
       "\n",
       "            70180  ...       70184       70186       70188       70190  \\\n",
       "count  409.000000  ...  409.000000  409.000000  409.000000  409.000000   \n",
       "mean     0.058680  ...    0.012225    0.009780    0.014670    0.019560   \n",
       "std      0.235312  ...    0.110023    0.098529    0.120375    0.138652   \n",
       "min      0.000000  ...    0.000000    0.000000    0.000000    0.000000   \n",
       "25%      0.000000  ...    0.000000    0.000000    0.000000    0.000000   \n",
       "50%      0.000000  ...    0.000000    0.000000    0.000000    0.000000   \n",
       "75%      0.000000  ...    0.000000    0.000000    0.000000    0.000000   \n",
       "max      1.000000  ...    1.000000    1.000000    1.000000    1.000000   \n",
       "\n",
       "            70191       70192       70193       70195       70197       70199  \n",
       "count  409.000000  409.000000  409.000000  409.000000  409.000000  409.000000  \n",
       "mean     0.026895    0.009780    0.075795    0.004890    0.117359    0.051345  \n",
       "std      0.161974    0.098529    0.264993    0.069843    0.322242    0.220970  \n",
       "min      0.000000    0.000000    0.000000    0.000000    0.000000    0.000000  \n",
       "25%      0.000000    0.000000    0.000000    0.000000    0.000000    0.000000  \n",
       "50%      0.000000    0.000000    0.000000    0.000000    0.000000    0.000000  \n",
       "75%      0.000000    0.000000    0.000000    0.000000    0.000000    0.000000  \n",
       "max      1.000000    1.000000    1.000000    1.000000    1.000000    1.000000  \n",
       "\n",
       "[8 rows x 21 columns]"
      ]
     },
     "execution_count": 51,
     "metadata": {},
     "output_type": "execute_result"
    }
   ],
   "source": [
    "df_str_venues_oh[\"Rating\"] = pd.to_numeric(df_str_venues_oh[\"Rating\"])\n",
    "df_str_venues_oh.describe()"
   ]
  },
  {
   "cell_type": "code",
   "execution_count": 52,
   "metadata": {},
   "outputs": [
    {
     "name": "stdout",
     "output_type": "stream",
     "text": [
      "<class 'pandas.core.frame.DataFrame'>\n",
      "Int64Index: 409 entries, 0 to 408\n",
      "Data columns (total 20 columns):\n",
      "Venue_id          409 non-null object\n",
      "Venue_name        409 non-null object\n",
      "Venue_category    409 non-null object\n",
      "Rating            409 non-null float64\n",
      "70173             409 non-null uint8\n",
      "70174             409 non-null uint8\n",
      "70176             409 non-null uint8\n",
      "70178             409 non-null uint8\n",
      "70180             409 non-null uint8\n",
      "70182             409 non-null uint8\n",
      "70184             409 non-null uint8\n",
      "70186             409 non-null uint8\n",
      "70188             409 non-null uint8\n",
      "70190             409 non-null uint8\n",
      "70191             409 non-null uint8\n",
      "70192             409 non-null uint8\n",
      "70193             409 non-null uint8\n",
      "70195             409 non-null uint8\n",
      "70197             409 non-null uint8\n",
      "70199             409 non-null uint8\n",
      "dtypes: float64(1), object(3), uint8(16)\n",
      "memory usage: 42.4+ KB\n"
     ]
    }
   ],
   "source": [
    "# Drop unnecessary columns\n",
    "df_str_reduced = df_str_venues_oh.drop([\"Venue_latitude\", \"Venue_longitude\", \"Venue_PLZ\", \"Appearances\", \"Adj_zip_codes\"], axis=1)\n",
    "df_str_reduced.info()"
   ]
  },
  {
   "cell_type": "code",
   "execution_count": 53,
   "metadata": {},
   "outputs": [],
   "source": [
    "zip_cols = df_str_reduced.columns.to_list()[4:20]"
   ]
  },
  {
   "cell_type": "code",
   "execution_count": 54,
   "metadata": {},
   "outputs": [],
   "source": [
    "# Group by Venues\n",
    "df_str_group = df_str_reduced.groupby([\"Venue_id\", \"Venue_name\", \"Venue_category\", \"Rating\"])[zip_cols].max().reset_index()"
   ]
  },
  {
   "cell_type": "code",
   "execution_count": 55,
   "metadata": {},
   "outputs": [
    {
     "data": {
      "text/plain": [
       "LabelEncoder()"
      ]
     },
     "execution_count": 55,
     "metadata": {},
     "output_type": "execute_result"
    }
   ],
   "source": [
    "# Transform \"Venue_category\" into numeric\n",
    "from sklearn import preprocessing\n",
    "le_category = preprocessing.LabelEncoder()\n",
    "le_category.fit(df_str_group[\"Venue_category\"])"
   ]
  },
  {
   "cell_type": "code",
   "execution_count": 56,
   "metadata": {},
   "outputs": [],
   "source": [
    "df_str_group[\"Num_category\"] = le_category.transform(df_str_group[\"Venue_category\"])"
   ]
  },
  {
   "cell_type": "code",
   "execution_count": 57,
   "metadata": {},
   "outputs": [
    {
     "data": {
      "text/html": [
       "<div>\n",
       "<style scoped>\n",
       "    .dataframe tbody tr th:only-of-type {\n",
       "        vertical-align: middle;\n",
       "    }\n",
       "\n",
       "    .dataframe tbody tr th {\n",
       "        vertical-align: top;\n",
       "    }\n",
       "\n",
       "    .dataframe thead th {\n",
       "        text-align: right;\n",
       "    }\n",
       "</style>\n",
       "<table border=\"1\" class=\"dataframe\">\n",
       "  <thead>\n",
       "    <tr style=\"text-align: right;\">\n",
       "      <th></th>\n",
       "      <th>Venue_id</th>\n",
       "      <th>Venue_name</th>\n",
       "      <th>Venue_category</th>\n",
       "      <th>Rating</th>\n",
       "      <th>70173</th>\n",
       "      <th>70174</th>\n",
       "      <th>70176</th>\n",
       "      <th>70178</th>\n",
       "      <th>70180</th>\n",
       "      <th>70182</th>\n",
       "      <th>...</th>\n",
       "      <th>70186</th>\n",
       "      <th>70188</th>\n",
       "      <th>70190</th>\n",
       "      <th>70191</th>\n",
       "      <th>70192</th>\n",
       "      <th>70193</th>\n",
       "      <th>70195</th>\n",
       "      <th>70197</th>\n",
       "      <th>70199</th>\n",
       "      <th>Num_category</th>\n",
       "    </tr>\n",
       "  </thead>\n",
       "  <tbody>\n",
       "    <tr>\n",
       "      <th>0</th>\n",
       "      <td>4b1ce1eff964a520410a24e3</td>\n",
       "      <td>Oggi Tavola Mediterranea</td>\n",
       "      <td>Italian Restaurant</td>\n",
       "      <td>8.6</td>\n",
       "      <td>1</td>\n",
       "      <td>1</td>\n",
       "      <td>0</td>\n",
       "      <td>0</td>\n",
       "      <td>0</td>\n",
       "      <td>0</td>\n",
       "      <td>...</td>\n",
       "      <td>0</td>\n",
       "      <td>0</td>\n",
       "      <td>0</td>\n",
       "      <td>0</td>\n",
       "      <td>0</td>\n",
       "      <td>0</td>\n",
       "      <td>0</td>\n",
       "      <td>0</td>\n",
       "      <td>0</td>\n",
       "      <td>6</td>\n",
       "    </tr>\n",
       "    <tr>\n",
       "      <th>1</th>\n",
       "      <td>4b44c3f8f964a52088fb25e3</td>\n",
       "      <td>Vapiano</td>\n",
       "      <td>Italian Restaurant</td>\n",
       "      <td>6.9</td>\n",
       "      <td>1</td>\n",
       "      <td>1</td>\n",
       "      <td>0</td>\n",
       "      <td>0</td>\n",
       "      <td>0</td>\n",
       "      <td>0</td>\n",
       "      <td>...</td>\n",
       "      <td>0</td>\n",
       "      <td>0</td>\n",
       "      <td>0</td>\n",
       "      <td>0</td>\n",
       "      <td>0</td>\n",
       "      <td>0</td>\n",
       "      <td>0</td>\n",
       "      <td>0</td>\n",
       "      <td>0</td>\n",
       "      <td>6</td>\n",
       "    </tr>\n",
       "    <tr>\n",
       "      <th>2</th>\n",
       "      <td>4b4823d9f964a520f64826e3</td>\n",
       "      <td>Bierhaus West</td>\n",
       "      <td>German Restaurant</td>\n",
       "      <td>6.6</td>\n",
       "      <td>0</td>\n",
       "      <td>1</td>\n",
       "      <td>1</td>\n",
       "      <td>0</td>\n",
       "      <td>0</td>\n",
       "      <td>0</td>\n",
       "      <td>...</td>\n",
       "      <td>0</td>\n",
       "      <td>0</td>\n",
       "      <td>0</td>\n",
       "      <td>0</td>\n",
       "      <td>0</td>\n",
       "      <td>0</td>\n",
       "      <td>0</td>\n",
       "      <td>0</td>\n",
       "      <td>0</td>\n",
       "      <td>5</td>\n",
       "    </tr>\n",
       "    <tr>\n",
       "      <th>3</th>\n",
       "      <td>4b48a6a8f964a520a35126e3</td>\n",
       "      <td>Alte Kanzlei</td>\n",
       "      <td>German Restaurant</td>\n",
       "      <td>7.0</td>\n",
       "      <td>1</td>\n",
       "      <td>0</td>\n",
       "      <td>0</td>\n",
       "      <td>0</td>\n",
       "      <td>0</td>\n",
       "      <td>1</td>\n",
       "      <td>...</td>\n",
       "      <td>0</td>\n",
       "      <td>0</td>\n",
       "      <td>0</td>\n",
       "      <td>0</td>\n",
       "      <td>0</td>\n",
       "      <td>0</td>\n",
       "      <td>0</td>\n",
       "      <td>0</td>\n",
       "      <td>0</td>\n",
       "      <td>5</td>\n",
       "    </tr>\n",
       "    <tr>\n",
       "      <th>4</th>\n",
       "      <td>4b4c5dfef964a520aab126e3</td>\n",
       "      <td>Stern Kebap</td>\n",
       "      <td>Fast Food Restaurant</td>\n",
       "      <td>6.1</td>\n",
       "      <td>0</td>\n",
       "      <td>0</td>\n",
       "      <td>0</td>\n",
       "      <td>0</td>\n",
       "      <td>0</td>\n",
       "      <td>0</td>\n",
       "      <td>...</td>\n",
       "      <td>0</td>\n",
       "      <td>0</td>\n",
       "      <td>1</td>\n",
       "      <td>0</td>\n",
       "      <td>0</td>\n",
       "      <td>0</td>\n",
       "      <td>0</td>\n",
       "      <td>0</td>\n",
       "      <td>0</td>\n",
       "      <td>4</td>\n",
       "    </tr>\n",
       "  </tbody>\n",
       "</table>\n",
       "<p>5 rows × 21 columns</p>\n",
       "</div>"
      ],
      "text/plain": [
       "                   Venue_id                Venue_name        Venue_category  \\\n",
       "0  4b1ce1eff964a520410a24e3  Oggi Tavola Mediterranea    Italian Restaurant   \n",
       "1  4b44c3f8f964a52088fb25e3                   Vapiano    Italian Restaurant   \n",
       "2  4b4823d9f964a520f64826e3             Bierhaus West     German Restaurant   \n",
       "3  4b48a6a8f964a520a35126e3              Alte Kanzlei     German Restaurant   \n",
       "4  4b4c5dfef964a520aab126e3               Stern Kebap  Fast Food Restaurant   \n",
       "\n",
       "   Rating  70173  70174  70176  70178  70180  70182  ...  70186  70188  70190  \\\n",
       "0     8.6      1      1      0      0      0      0  ...      0      0      0   \n",
       "1     6.9      1      1      0      0      0      0  ...      0      0      0   \n",
       "2     6.6      0      1      1      0      0      0  ...      0      0      0   \n",
       "3     7.0      1      0      0      0      0      1  ...      0      0      0   \n",
       "4     6.1      0      0      0      0      0      0  ...      0      0      1   \n",
       "\n",
       "   70191  70192  70193  70195  70197  70199  Num_category  \n",
       "0      0      0      0      0      0      0             6  \n",
       "1      0      0      0      0      0      0             6  \n",
       "2      0      0      0      0      0      0             5  \n",
       "3      0      0      0      0      0      0             5  \n",
       "4      0      0      0      0      0      0             4  \n",
       "\n",
       "[5 rows x 21 columns]"
      ]
     },
     "execution_count": 57,
     "metadata": {},
     "output_type": "execute_result"
    }
   ],
   "source": [
    "df_str_group.head()"
   ]
  },
  {
   "cell_type": "code",
   "execution_count": 58,
   "metadata": {},
   "outputs": [
    {
     "name": "stdout",
     "output_type": "stream",
     "text": [
      "<class 'pandas.core.frame.DataFrame'>\n",
      "RangeIndex: 176 entries, 0 to 175\n",
      "Data columns (total 21 columns):\n",
      "Venue_id          176 non-null object\n",
      "Venue_name        176 non-null object\n",
      "Venue_category    176 non-null object\n",
      "Rating            176 non-null float64\n",
      "70173             176 non-null uint8\n",
      "70174             176 non-null uint8\n",
      "70176             176 non-null uint8\n",
      "70178             176 non-null uint8\n",
      "70180             176 non-null uint8\n",
      "70182             176 non-null uint8\n",
      "70184             176 non-null uint8\n",
      "70186             176 non-null uint8\n",
      "70188             176 non-null uint8\n",
      "70190             176 non-null uint8\n",
      "70191             176 non-null uint8\n",
      "70192             176 non-null uint8\n",
      "70193             176 non-null uint8\n",
      "70195             176 non-null uint8\n",
      "70197             176 non-null uint8\n",
      "70199             176 non-null uint8\n",
      "Num_category      176 non-null int32\n",
      "dtypes: float64(1), int32(1), object(3), uint8(16)\n",
      "memory usage: 9.0+ KB\n"
     ]
    }
   ],
   "source": [
    "df_str_group.info()"
   ]
  },
  {
   "cell_type": "code",
   "execution_count": 59,
   "metadata": {},
   "outputs": [
    {
     "data": {
      "text/html": [
       "<div>\n",
       "<style scoped>\n",
       "    .dataframe tbody tr th:only-of-type {\n",
       "        vertical-align: middle;\n",
       "    }\n",
       "\n",
       "    .dataframe tbody tr th {\n",
       "        vertical-align: top;\n",
       "    }\n",
       "\n",
       "    .dataframe thead th {\n",
       "        text-align: right;\n",
       "    }\n",
       "</style>\n",
       "<table border=\"1\" class=\"dataframe\">\n",
       "  <thead>\n",
       "    <tr style=\"text-align: right;\">\n",
       "      <th></th>\n",
       "      <th>Original</th>\n",
       "      <th>New</th>\n",
       "    </tr>\n",
       "  </thead>\n",
       "  <tbody>\n",
       "    <tr>\n",
       "      <th>0</th>\n",
       "      <td>Asian Restaurant</td>\n",
       "      <td>0</td>\n",
       "    </tr>\n",
       "    <tr>\n",
       "      <th>1</th>\n",
       "      <td>Bakery</td>\n",
       "      <td>1</td>\n",
       "    </tr>\n",
       "    <tr>\n",
       "      <th>2</th>\n",
       "      <td>Burger Joint</td>\n",
       "      <td>2</td>\n",
       "    </tr>\n",
       "    <tr>\n",
       "      <th>3</th>\n",
       "      <td>Café</td>\n",
       "      <td>3</td>\n",
       "    </tr>\n",
       "    <tr>\n",
       "      <th>4</th>\n",
       "      <td>Fast Food Restaurant</td>\n",
       "      <td>4</td>\n",
       "    </tr>\n",
       "    <tr>\n",
       "      <th>5</th>\n",
       "      <td>German Restaurant</td>\n",
       "      <td>5</td>\n",
       "    </tr>\n",
       "    <tr>\n",
       "      <th>6</th>\n",
       "      <td>Italian Restaurant</td>\n",
       "      <td>6</td>\n",
       "    </tr>\n",
       "    <tr>\n",
       "      <th>7</th>\n",
       "      <td>Pizza Place</td>\n",
       "      <td>7</td>\n",
       "    </tr>\n",
       "    <tr>\n",
       "      <th>8</th>\n",
       "      <td>Sushi Restaurant</td>\n",
       "      <td>8</td>\n",
       "    </tr>\n",
       "    <tr>\n",
       "      <th>9</th>\n",
       "      <td>Turkish Restaurant</td>\n",
       "      <td>9</td>\n",
       "    </tr>\n",
       "  </tbody>\n",
       "</table>\n",
       "</div>"
      ],
      "text/plain": [
       "               Original  New\n",
       "0      Asian Restaurant    0\n",
       "1                Bakery    1\n",
       "2          Burger Joint    2\n",
       "3                  Café    3\n",
       "4  Fast Food Restaurant    4\n",
       "5     German Restaurant    5\n",
       "6    Italian Restaurant    6\n",
       "7           Pizza Place    7\n",
       "8      Sushi Restaurant    8\n",
       "9    Turkish Restaurant    9"
      ]
     },
     "execution_count": 59,
     "metadata": {},
     "output_type": "execute_result"
    }
   ],
   "source": [
    "# Summary of Categories\n",
    "orig_categories = le_category.classes_\n",
    "new_labels = le_category.transform(orig_categories)\n",
    "category_legend = pd.DataFrame({'Original': orig_categories, 'New': new_labels})\n",
    "category_legend"
   ]
  },
  {
   "cell_type": "markdown",
   "metadata": {},
   "source": [
    "## 3. ML to predict rating based on location and restaurant category"
   ]
  },
  {
   "cell_type": "markdown",
   "metadata": {},
   "source": [
    "### 3.1 Prepare input data for ML-model"
   ]
  },
  {
   "cell_type": "code",
   "execution_count": 60,
   "metadata": {},
   "outputs": [],
   "source": [
    "#Prepare features\n",
    "x_data = np.asanyarray(df_str_group.iloc[:, 4:22])\n",
    "x_cols = df_str_group.columns.to_list()[4:22]"
   ]
  },
  {
   "cell_type": "code",
   "execution_count": 61,
   "metadata": {},
   "outputs": [],
   "source": [
    "# Prepare target labels\n",
    "y_data = np.asanyarray(df_str_group.loc[:, [\"Rating\"]])"
   ]
  },
  {
   "cell_type": "code",
   "execution_count": 62,
   "metadata": {},
   "outputs": [],
   "source": [
    "from sklearn.model_selection import train_test_split\n",
    "\n",
    "x_train, x_test, y_train, y_test = train_test_split(x_data, y_data, test_size=0.2, random_state=1)"
   ]
  },
  {
   "cell_type": "code",
   "execution_count": 63,
   "metadata": {},
   "outputs": [
    {
     "data": {
      "text/plain": [
       "(36, 1)"
      ]
     },
     "execution_count": 63,
     "metadata": {},
     "output_type": "execute_result"
    }
   ],
   "source": [
    "y_test.shape"
   ]
  },
  {
   "cell_type": "markdown",
   "metadata": {},
   "source": [
    "### 3.2 Linear regression"
   ]
  },
  {
   "cell_type": "code",
   "execution_count": 64,
   "metadata": {},
   "outputs": [],
   "source": [
    "from sklearn.linear_model import LinearRegression"
   ]
  },
  {
   "cell_type": "code",
   "execution_count": 65,
   "metadata": {},
   "outputs": [],
   "source": [
    "LR_model = LinearRegression(fit_intercept = True)"
   ]
  },
  {
   "cell_type": "code",
   "execution_count": 68,
   "metadata": {},
   "outputs": [
    {
     "data": {
      "text/plain": [
       "LinearRegression(copy_X=True, fit_intercept=True, n_jobs=None, normalize=False)"
      ]
     },
     "execution_count": 68,
     "metadata": {},
     "output_type": "execute_result"
    }
   ],
   "source": [
    "LR_model.fit(x_train, y_train)"
   ]
  },
  {
   "cell_type": "code",
   "execution_count": 69,
   "metadata": {},
   "outputs": [
    {
     "data": {
      "text/plain": [
       "array([[ 6.28636035e-01, -3.95551476e-01,  5.84663288e-04,\n",
       "         2.41899258e-01,  1.95913003e-01, -1.27639758e-01,\n",
       "         7.98057348e-01, -4.36527794e-01,  5.30953414e-01,\n",
       "         2.18148910e-02, -1.32459018e-01, -1.33674033e-02,\n",
       "         7.64931346e-01, -1.86537638e+00, -4.45801548e-01,\n",
       "         2.89966163e-01,  5.59666480e-02]])"
      ]
     },
     "execution_count": 69,
     "metadata": {},
     "output_type": "execute_result"
    }
   ],
   "source": [
    "LR_model.coef_"
   ]
  },
  {
   "cell_type": "code",
   "execution_count": 70,
   "metadata": {},
   "outputs": [
    {
     "data": {
      "text/plain": [
       "array([6.76464514])"
      ]
     },
     "execution_count": 70,
     "metadata": {},
     "output_type": "execute_result"
    }
   ],
   "source": [
    "LR_model.intercept_"
   ]
  },
  {
   "cell_type": "code",
   "execution_count": 71,
   "metadata": {},
   "outputs": [
    {
     "data": {
      "text/plain": [
       "0.2457069741693402"
      ]
     },
     "execution_count": 71,
     "metadata": {},
     "output_type": "execute_result"
    }
   ],
   "source": [
    "LR_model.score(x_train, y_train)"
   ]
  },
  {
   "cell_type": "markdown",
   "metadata": {},
   "source": [
    "--> Very poor R-squared value. Means the model doesn't really fit"
   ]
  },
  {
   "cell_type": "code",
   "execution_count": 72,
   "metadata": {},
   "outputs": [],
   "source": [
    "y_predict = LR_model.predict(x_test)"
   ]
  },
  {
   "cell_type": "code",
   "execution_count": 73,
   "metadata": {},
   "outputs": [],
   "source": [
    "from sklearn.metrics import mean_squared_error"
   ]
  },
  {
   "cell_type": "code",
   "execution_count": 74,
   "metadata": {},
   "outputs": [
    {
     "data": {
      "text/plain": [
       "0.6593930004303137"
      ]
     },
     "execution_count": 74,
     "metadata": {},
     "output_type": "execute_result"
    }
   ],
   "source": [
    "mse_lr = mean_squared_error(y_test, y_predict)\n",
    "mse_lr"
   ]
  },
  {
   "cell_type": "markdown",
   "metadata": {},
   "source": [
    "--> but the MSE is quite small with 0.66"
   ]
  },
  {
   "cell_type": "markdown",
   "metadata": {},
   "source": [
    "Let's have a look on the coefficients"
   ]
  },
  {
   "cell_type": "code",
   "execution_count": 75,
   "metadata": {},
   "outputs": [
    {
     "data": {
      "text/html": [
       "<div>\n",
       "<style scoped>\n",
       "    .dataframe tbody tr th:only-of-type {\n",
       "        vertical-align: middle;\n",
       "    }\n",
       "\n",
       "    .dataframe tbody tr th {\n",
       "        vertical-align: top;\n",
       "    }\n",
       "\n",
       "    .dataframe thead th {\n",
       "        text-align: right;\n",
       "    }\n",
       "</style>\n",
       "<table border=\"1\" class=\"dataframe\">\n",
       "  <thead>\n",
       "    <tr style=\"text-align: right;\">\n",
       "      <th></th>\n",
       "      <th>Coefficients</th>\n",
       "    </tr>\n",
       "    <tr>\n",
       "      <th>Feature</th>\n",
       "      <th></th>\n",
       "    </tr>\n",
       "  </thead>\n",
       "  <tbody>\n",
       "    <tr>\n",
       "      <th>70184</th>\n",
       "      <td>0.798</td>\n",
       "    </tr>\n",
       "    <tr>\n",
       "      <th>70193</th>\n",
       "      <td>0.765</td>\n",
       "    </tr>\n",
       "    <tr>\n",
       "      <th>70173</th>\n",
       "      <td>0.629</td>\n",
       "    </tr>\n",
       "    <tr>\n",
       "      <th>70188</th>\n",
       "      <td>0.531</td>\n",
       "    </tr>\n",
       "    <tr>\n",
       "      <th>70199</th>\n",
       "      <td>0.290</td>\n",
       "    </tr>\n",
       "    <tr>\n",
       "      <th>70178</th>\n",
       "      <td>0.242</td>\n",
       "    </tr>\n",
       "    <tr>\n",
       "      <th>70180</th>\n",
       "      <td>0.196</td>\n",
       "    </tr>\n",
       "    <tr>\n",
       "      <th>Num_category</th>\n",
       "      <td>0.056</td>\n",
       "    </tr>\n",
       "    <tr>\n",
       "      <th>70190</th>\n",
       "      <td>0.022</td>\n",
       "    </tr>\n",
       "    <tr>\n",
       "      <th>70176</th>\n",
       "      <td>0.001</td>\n",
       "    </tr>\n",
       "    <tr>\n",
       "      <th>70192</th>\n",
       "      <td>-0.013</td>\n",
       "    </tr>\n",
       "    <tr>\n",
       "      <th>70182</th>\n",
       "      <td>-0.128</td>\n",
       "    </tr>\n",
       "    <tr>\n",
       "      <th>70191</th>\n",
       "      <td>-0.132</td>\n",
       "    </tr>\n",
       "    <tr>\n",
       "      <th>70174</th>\n",
       "      <td>-0.396</td>\n",
       "    </tr>\n",
       "    <tr>\n",
       "      <th>70186</th>\n",
       "      <td>-0.437</td>\n",
       "    </tr>\n",
       "    <tr>\n",
       "      <th>70197</th>\n",
       "      <td>-0.446</td>\n",
       "    </tr>\n",
       "    <tr>\n",
       "      <th>70195</th>\n",
       "      <td>-1.865</td>\n",
       "    </tr>\n",
       "  </tbody>\n",
       "</table>\n",
       "</div>"
      ],
      "text/plain": [
       "              Coefficients\n",
       "Feature                   \n",
       "70184                0.798\n",
       "70193                0.765\n",
       "70173                0.629\n",
       "70188                0.531\n",
       "70199                0.290\n",
       "70178                0.242\n",
       "70180                0.196\n",
       "Num_category         0.056\n",
       "70190                0.022\n",
       "70176                0.001\n",
       "70192               -0.013\n",
       "70182               -0.128\n",
       "70191               -0.132\n",
       "70174               -0.396\n",
       "70186               -0.437\n",
       "70197               -0.446\n",
       "70195               -1.865"
      ]
     },
     "execution_count": 75,
     "metadata": {},
     "output_type": "execute_result"
    }
   ],
   "source": [
    "df_coeff_lr = pd.DataFrame({\"Feature\": x_cols, \"Coefficients\": np.round(LR_model.coef_[0], 3)}).set_index(\"Feature\")\n",
    "df_coeff_lr.sort_values(by=\"Coefficients\", ascending=False, inplace=True)\n",
    "df_coeff_lr.head(30)"
   ]
  },
  {
   "cell_type": "markdown",
   "metadata": {},
   "source": [
    "### 3.3 Conclusion of Linear regression model"
   ]
  },
  {
   "cell_type": "code",
   "execution_count": 76,
   "metadata": {},
   "outputs": [],
   "source": [
    "x_values = np.linspace(0, 9, num=10)\n",
    "y_lin = df_coeff_lr.loc[\"Num_category\", \"Coefficients\"] * x_values + LR_model.intercept_"
   ]
  },
  {
   "cell_type": "code",
   "execution_count": 77,
   "metadata": {},
   "outputs": [
    {
     "data": {
      "image/png": "[encoded data removed]",
      "text/plain": [
       "<Figure size 432x288 with 1 Axes>"
      ]
     },
     "metadata": {
      "needs_background": "light"
     },
     "output_type": "display_data"
    }
   ],
   "source": [
    "plt.plot(x_values, y_lin, '-r', label='Linear regression line')\n",
    "plt.title('Linear regression line for ZIP-area ' + str(df_coeff_lr.index[0]) + \" dependent of type of cuisine\")\n",
    "plt.xlabel('Type of cusines', color='#1C2833')\n",
    "plt.ylabel('Rating', color='#1C2833')\n",
    "plt.legend(loc='upper left')\n",
    "plt.grid()\n",
    "plt.show()"
   ]
  },
  {
   "cell_type": "markdown",
   "metadata": {},
   "source": [
    "Linear regression line shows the likely range of a restaurant rating in ZIP-area 70184.<br>\n",
    "ZIP-area is the area, where the restaurants have the best rating\n",
    "> min. rating is 6.75<br>\n",
    "> max. rating is 7.3<br>\n",
    "> type of cusine has only limited impact as the MSE is 0.66"
   ]
  },
  {
   "cell_type": "markdown",
   "metadata": {},
   "source": [
    "**Conclusion:<br>\n",
    "The impact of location and cusine on the rating is not significant enough to be considered as crucial criteria**"
   ]
  },
  {
   "cell_type": "code",
   "execution_count": null,
   "metadata": {},
   "outputs": [],
   "source": []
  }
 ],
 "metadata": {
  "kernelspec": {
   "display_name": "Python 3",
   "language": "python",
   "name": "python3"
  },
  "language_info": {
   "codemirror_mode": {
    "name": "ipython",
    "version": 3
   },
   "file_extension": ".py",
   "mimetype": "text/x-python",
   "name": "python",
   "nbconvert_exporter": "python",
   "pygments_lexer": "ipython3",
   "version": "3.7.4"
  }
 },
 "nbformat": 4,
 "nbformat_minor": 2
}
